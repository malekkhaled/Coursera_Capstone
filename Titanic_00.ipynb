{
  "nbformat": 4,
  "nbformat_minor": 0,
  "metadata": {
    "colab": {
      "name": "Titanic_00.ipynb",
      "provenance": [],
      "collapsed_sections": [],
      "authorship_tag": "ABX9TyOdQuLUUUig/1KqtZHqW569",
      "include_colab_link": true
    },
    "kernelspec": {
      "name": "python3",
      "display_name": "Python 3"
    },
    "language_info": {
      "name": "python"
    }
  },
  "cells": [
    {
      "cell_type": "markdown",
      "metadata": {
        "id": "view-in-github",
        "colab_type": "text"
      },
      "source": [
        "<a href=\"https://colab.research.google.com/github/malekkhaled/Machine_Learning/blob/main/Titanic_00.ipynb\" target=\"_parent\"><img src=\"https://colab.research.google.com/assets/colab-badge.svg\" alt=\"Open In Colab\"/></a>"
      ]
    },
    {
      "cell_type": "markdown",
      "metadata": {
        "id": "LdJXSINe5bnz"
      },
      "source": [
        "<b>Titanic - Machine Learning from Disaster</b>\n",
        "\n"
      ]
    },
    {
      "cell_type": "markdown",
      "metadata": {
        "id": "qyVMCbi65rch"
      },
      "source": [
        "The sinking of the Titanic is one of the most infamous shipwrecks in history.\n",
        "\n",
        "On April 15, 1912, during her maiden voyage, the widely considered “unsinkable” RMS Titanic sank after colliding with an iceberg. Unfortunately, there weren’t enough lifeboats for everyone onboard, resulting in the death of 1502 out of 2224 passengers and crew.\n",
        "\n",
        "While there was some element of luck involved in surviving, it seems some groups of people were more likely to survive than others.\n",
        "\n",
        "I will be building a predictive model that answers the question: “what sorts of people were more likely to survive?” using passenger data (ie name, age, gender, socio-economic class, etc)."
      ]
    },
    {
      "cell_type": "code",
      "metadata": {
        "id": "w-hcle0mAMIb"
      },
      "source": [
        "import pandas as pd\n",
        "import numpy as np"
      ],
      "execution_count": null,
      "outputs": []
    },
    {
      "cell_type": "code",
      "metadata": {
        "colab": {
          "base_uri": "https://localhost:8080/",
          "height": 237
        },
        "id": "KtKfinZoAn07",
        "outputId": "6b735040-1c1f-49f6-a769-1579e51b0ea3"
      },
      "source": [
        "#reading train and test data from csv files to dataframes.\n",
        "df_train = pd.read_csv('/content/train.csv')\n",
        "df_test = pd.read_csv('/content/test.csv')\n",
        "df_train.head()"
      ],
      "execution_count": null,
      "outputs": [
        {
          "output_type": "execute_result",
          "data": {
            "text/html": [
              "<div>\n",
              "<style scoped>\n",
              "    .dataframe tbody tr th:only-of-type {\n",
              "        vertical-align: middle;\n",
              "    }\n",
              "\n",
              "    .dataframe tbody tr th {\n",
              "        vertical-align: top;\n",
              "    }\n",
              "\n",
              "    .dataframe thead th {\n",
              "        text-align: right;\n",
              "    }\n",
              "</style>\n",
              "<table border=\"1\" class=\"dataframe\">\n",
              "  <thead>\n",
              "    <tr style=\"text-align: right;\">\n",
              "      <th></th>\n",
              "      <th>PassengerId</th>\n",
              "      <th>Survived</th>\n",
              "      <th>Pclass</th>\n",
              "      <th>Name</th>\n",
              "      <th>Sex</th>\n",
              "      <th>Age</th>\n",
              "      <th>SibSp</th>\n",
              "      <th>Parch</th>\n",
              "      <th>Ticket</th>\n",
              "      <th>Fare</th>\n",
              "      <th>Cabin</th>\n",
              "      <th>Embarked</th>\n",
              "    </tr>\n",
              "  </thead>\n",
              "  <tbody>\n",
              "    <tr>\n",
              "      <th>0</th>\n",
              "      <td>1</td>\n",
              "      <td>0</td>\n",
              "      <td>3</td>\n",
              "      <td>Braund, Mr. Owen Harris</td>\n",
              "      <td>male</td>\n",
              "      <td>22.0</td>\n",
              "      <td>1</td>\n",
              "      <td>0</td>\n",
              "      <td>A/5 21171</td>\n",
              "      <td>7.2500</td>\n",
              "      <td>NaN</td>\n",
              "      <td>S</td>\n",
              "    </tr>\n",
              "    <tr>\n",
              "      <th>1</th>\n",
              "      <td>2</td>\n",
              "      <td>1</td>\n",
              "      <td>1</td>\n",
              "      <td>Cumings, Mrs. John Bradley (Florence Briggs Th...</td>\n",
              "      <td>female</td>\n",
              "      <td>38.0</td>\n",
              "      <td>1</td>\n",
              "      <td>0</td>\n",
              "      <td>PC 17599</td>\n",
              "      <td>71.2833</td>\n",
              "      <td>C85</td>\n",
              "      <td>C</td>\n",
              "    </tr>\n",
              "    <tr>\n",
              "      <th>2</th>\n",
              "      <td>3</td>\n",
              "      <td>1</td>\n",
              "      <td>3</td>\n",
              "      <td>Heikkinen, Miss. Laina</td>\n",
              "      <td>female</td>\n",
              "      <td>26.0</td>\n",
              "      <td>0</td>\n",
              "      <td>0</td>\n",
              "      <td>STON/O2. 3101282</td>\n",
              "      <td>7.9250</td>\n",
              "      <td>NaN</td>\n",
              "      <td>S</td>\n",
              "    </tr>\n",
              "    <tr>\n",
              "      <th>3</th>\n",
              "      <td>4</td>\n",
              "      <td>1</td>\n",
              "      <td>1</td>\n",
              "      <td>Futrelle, Mrs. Jacques Heath (Lily May Peel)</td>\n",
              "      <td>female</td>\n",
              "      <td>35.0</td>\n",
              "      <td>1</td>\n",
              "      <td>0</td>\n",
              "      <td>113803</td>\n",
              "      <td>53.1000</td>\n",
              "      <td>C123</td>\n",
              "      <td>S</td>\n",
              "    </tr>\n",
              "    <tr>\n",
              "      <th>4</th>\n",
              "      <td>5</td>\n",
              "      <td>0</td>\n",
              "      <td>3</td>\n",
              "      <td>Allen, Mr. William Henry</td>\n",
              "      <td>male</td>\n",
              "      <td>35.0</td>\n",
              "      <td>0</td>\n",
              "      <td>0</td>\n",
              "      <td>373450</td>\n",
              "      <td>8.0500</td>\n",
              "      <td>NaN</td>\n",
              "      <td>S</td>\n",
              "    </tr>\n",
              "  </tbody>\n",
              "</table>\n",
              "</div>"
            ],
            "text/plain": [
              "   PassengerId  Survived  Pclass  ...     Fare Cabin  Embarked\n",
              "0            1         0       3  ...   7.2500   NaN         S\n",
              "1            2         1       1  ...  71.2833   C85         C\n",
              "2            3         1       3  ...   7.9250   NaN         S\n",
              "3            4         1       1  ...  53.1000  C123         S\n",
              "4            5         0       3  ...   8.0500   NaN         S\n",
              "\n",
              "[5 rows x 12 columns]"
            ]
          },
          "metadata": {
            "tags": []
          },
          "execution_count": 2
        }
      ]
    },
    {
      "cell_type": "code",
      "metadata": {
        "colab": {
          "base_uri": "https://localhost:8080/"
        },
        "id": "_EJZcRY3dU62",
        "outputId": "1bcfaa47-81a2-40c6-e61b-722254e67077"
      },
      "source": [
        "df_train.dtypes"
      ],
      "execution_count": null,
      "outputs": [
        {
          "output_type": "execute_result",
          "data": {
            "text/plain": [
              "PassengerId      int64\n",
              "Survived         int64\n",
              "Pclass           int64\n",
              "Name            object\n",
              "Sex             object\n",
              "Age            float64\n",
              "SibSp            int64\n",
              "Parch            int64\n",
              "Ticket          object\n",
              "Fare           float64\n",
              "Cabin           object\n",
              "Embarked        object\n",
              "dtype: object"
            ]
          },
          "metadata": {
            "tags": []
          },
          "execution_count": 3
        }
      ]
    },
    {
      "cell_type": "markdown",
      "metadata": {
        "id": "a1QI6k9Y7isM"
      },
      "source": [
        "Dropping the Name column as it most propably doesn't affect the chances of surviving\n"
      ]
    },
    {
      "cell_type": "code",
      "metadata": {
        "id": "sYQruK5sA0QN"
      },
      "source": [
        "df_train.drop(columns='Name',axis=1,inplace=True)\n",
        "df_test.drop(columns='Name',axis=1,inplace=True)"
      ],
      "execution_count": null,
      "outputs": []
    },
    {
      "cell_type": "markdown",
      "metadata": {
        "id": "HBQqgIkb7fSa"
      },
      "source": [
        "Dropping the Name column as it most propably doesn't affect the chances of surviving\n"
      ]
    },
    {
      "cell_type": "code",
      "metadata": {
        "id": "hhKgSRqfDEHq"
      },
      "source": [
        "df_train.drop(columns=['Ticket'], inplace=True)\n",
        "df_test.drop(columns=['Ticket'], inplace=True)"
      ],
      "execution_count": null,
      "outputs": []
    },
    {
      "cell_type": "code",
      "metadata": {
        "colab": {
          "base_uri": "https://localhost:8080/",
          "height": 203
        },
        "id": "xl8vLGQfEyG3",
        "outputId": "5aa1c7ab-2a6c-4f9f-a141-32e0d85d416a"
      },
      "source": [
        "df_train.head()"
      ],
      "execution_count": null,
      "outputs": [
        {
          "output_type": "execute_result",
          "data": {
            "text/html": [
              "<div>\n",
              "<style scoped>\n",
              "    .dataframe tbody tr th:only-of-type {\n",
              "        vertical-align: middle;\n",
              "    }\n",
              "\n",
              "    .dataframe tbody tr th {\n",
              "        vertical-align: top;\n",
              "    }\n",
              "\n",
              "    .dataframe thead th {\n",
              "        text-align: right;\n",
              "    }\n",
              "</style>\n",
              "<table border=\"1\" class=\"dataframe\">\n",
              "  <thead>\n",
              "    <tr style=\"text-align: right;\">\n",
              "      <th></th>\n",
              "      <th>PassengerId</th>\n",
              "      <th>Survived</th>\n",
              "      <th>Pclass</th>\n",
              "      <th>Sex</th>\n",
              "      <th>Age</th>\n",
              "      <th>SibSp</th>\n",
              "      <th>Parch</th>\n",
              "      <th>Fare</th>\n",
              "      <th>Cabin</th>\n",
              "      <th>Embarked</th>\n",
              "    </tr>\n",
              "  </thead>\n",
              "  <tbody>\n",
              "    <tr>\n",
              "      <th>0</th>\n",
              "      <td>1</td>\n",
              "      <td>0</td>\n",
              "      <td>3</td>\n",
              "      <td>male</td>\n",
              "      <td>22.0</td>\n",
              "      <td>1</td>\n",
              "      <td>0</td>\n",
              "      <td>7.2500</td>\n",
              "      <td>NaN</td>\n",
              "      <td>S</td>\n",
              "    </tr>\n",
              "    <tr>\n",
              "      <th>1</th>\n",
              "      <td>2</td>\n",
              "      <td>1</td>\n",
              "      <td>1</td>\n",
              "      <td>female</td>\n",
              "      <td>38.0</td>\n",
              "      <td>1</td>\n",
              "      <td>0</td>\n",
              "      <td>71.2833</td>\n",
              "      <td>C85</td>\n",
              "      <td>C</td>\n",
              "    </tr>\n",
              "    <tr>\n",
              "      <th>2</th>\n",
              "      <td>3</td>\n",
              "      <td>1</td>\n",
              "      <td>3</td>\n",
              "      <td>female</td>\n",
              "      <td>26.0</td>\n",
              "      <td>0</td>\n",
              "      <td>0</td>\n",
              "      <td>7.9250</td>\n",
              "      <td>NaN</td>\n",
              "      <td>S</td>\n",
              "    </tr>\n",
              "    <tr>\n",
              "      <th>3</th>\n",
              "      <td>4</td>\n",
              "      <td>1</td>\n",
              "      <td>1</td>\n",
              "      <td>female</td>\n",
              "      <td>35.0</td>\n",
              "      <td>1</td>\n",
              "      <td>0</td>\n",
              "      <td>53.1000</td>\n",
              "      <td>C123</td>\n",
              "      <td>S</td>\n",
              "    </tr>\n",
              "    <tr>\n",
              "      <th>4</th>\n",
              "      <td>5</td>\n",
              "      <td>0</td>\n",
              "      <td>3</td>\n",
              "      <td>male</td>\n",
              "      <td>35.0</td>\n",
              "      <td>0</td>\n",
              "      <td>0</td>\n",
              "      <td>8.0500</td>\n",
              "      <td>NaN</td>\n",
              "      <td>S</td>\n",
              "    </tr>\n",
              "  </tbody>\n",
              "</table>\n",
              "</div>"
            ],
            "text/plain": [
              "   PassengerId  Survived  Pclass     Sex  ...  Parch     Fare  Cabin  Embarked\n",
              "0            1         0       3    male  ...      0   7.2500    NaN         S\n",
              "1            2         1       1  female  ...      0  71.2833    C85         C\n",
              "2            3         1       3  female  ...      0   7.9250    NaN         S\n",
              "3            4         1       1  female  ...      0  53.1000   C123         S\n",
              "4            5         0       3    male  ...      0   8.0500    NaN         S\n",
              "\n",
              "[5 rows x 10 columns]"
            ]
          },
          "metadata": {
            "tags": []
          },
          "execution_count": 6
        }
      ]
    },
    {
      "cell_type": "code",
      "metadata": {
        "colab": {
          "base_uri": "https://localhost:8080/",
          "height": 265
        },
        "id": "I_9V9BJyd944",
        "outputId": "8dab52fd-aed3-4849-b7d0-54c0bbbd5714"
      },
      "source": [
        "df_train.corr()"
      ],
      "execution_count": null,
      "outputs": [
        {
          "output_type": "execute_result",
          "data": {
            "text/html": [
              "<div>\n",
              "<style scoped>\n",
              "    .dataframe tbody tr th:only-of-type {\n",
              "        vertical-align: middle;\n",
              "    }\n",
              "\n",
              "    .dataframe tbody tr th {\n",
              "        vertical-align: top;\n",
              "    }\n",
              "\n",
              "    .dataframe thead th {\n",
              "        text-align: right;\n",
              "    }\n",
              "</style>\n",
              "<table border=\"1\" class=\"dataframe\">\n",
              "  <thead>\n",
              "    <tr style=\"text-align: right;\">\n",
              "      <th></th>\n",
              "      <th>PassengerId</th>\n",
              "      <th>Survived</th>\n",
              "      <th>Pclass</th>\n",
              "      <th>Age</th>\n",
              "      <th>SibSp</th>\n",
              "      <th>Parch</th>\n",
              "      <th>Fare</th>\n",
              "    </tr>\n",
              "  </thead>\n",
              "  <tbody>\n",
              "    <tr>\n",
              "      <th>PassengerId</th>\n",
              "      <td>1.000000</td>\n",
              "      <td>-0.005007</td>\n",
              "      <td>-0.035144</td>\n",
              "      <td>0.036847</td>\n",
              "      <td>-0.057527</td>\n",
              "      <td>-0.001652</td>\n",
              "      <td>0.012658</td>\n",
              "    </tr>\n",
              "    <tr>\n",
              "      <th>Survived</th>\n",
              "      <td>-0.005007</td>\n",
              "      <td>1.000000</td>\n",
              "      <td>-0.338481</td>\n",
              "      <td>-0.077221</td>\n",
              "      <td>-0.035322</td>\n",
              "      <td>0.081629</td>\n",
              "      <td>0.257307</td>\n",
              "    </tr>\n",
              "    <tr>\n",
              "      <th>Pclass</th>\n",
              "      <td>-0.035144</td>\n",
              "      <td>-0.338481</td>\n",
              "      <td>1.000000</td>\n",
              "      <td>-0.369226</td>\n",
              "      <td>0.083081</td>\n",
              "      <td>0.018443</td>\n",
              "      <td>-0.549500</td>\n",
              "    </tr>\n",
              "    <tr>\n",
              "      <th>Age</th>\n",
              "      <td>0.036847</td>\n",
              "      <td>-0.077221</td>\n",
              "      <td>-0.369226</td>\n",
              "      <td>1.000000</td>\n",
              "      <td>-0.308247</td>\n",
              "      <td>-0.189119</td>\n",
              "      <td>0.096067</td>\n",
              "    </tr>\n",
              "    <tr>\n",
              "      <th>SibSp</th>\n",
              "      <td>-0.057527</td>\n",
              "      <td>-0.035322</td>\n",
              "      <td>0.083081</td>\n",
              "      <td>-0.308247</td>\n",
              "      <td>1.000000</td>\n",
              "      <td>0.414838</td>\n",
              "      <td>0.159651</td>\n",
              "    </tr>\n",
              "    <tr>\n",
              "      <th>Parch</th>\n",
              "      <td>-0.001652</td>\n",
              "      <td>0.081629</td>\n",
              "      <td>0.018443</td>\n",
              "      <td>-0.189119</td>\n",
              "      <td>0.414838</td>\n",
              "      <td>1.000000</td>\n",
              "      <td>0.216225</td>\n",
              "    </tr>\n",
              "    <tr>\n",
              "      <th>Fare</th>\n",
              "      <td>0.012658</td>\n",
              "      <td>0.257307</td>\n",
              "      <td>-0.549500</td>\n",
              "      <td>0.096067</td>\n",
              "      <td>0.159651</td>\n",
              "      <td>0.216225</td>\n",
              "      <td>1.000000</td>\n",
              "    </tr>\n",
              "  </tbody>\n",
              "</table>\n",
              "</div>"
            ],
            "text/plain": [
              "             PassengerId  Survived    Pclass  ...     SibSp     Parch      Fare\n",
              "PassengerId     1.000000 -0.005007 -0.035144  ... -0.057527 -0.001652  0.012658\n",
              "Survived       -0.005007  1.000000 -0.338481  ... -0.035322  0.081629  0.257307\n",
              "Pclass         -0.035144 -0.338481  1.000000  ...  0.083081  0.018443 -0.549500\n",
              "Age             0.036847 -0.077221 -0.369226  ... -0.308247 -0.189119  0.096067\n",
              "SibSp          -0.057527 -0.035322  0.083081  ...  1.000000  0.414838  0.159651\n",
              "Parch          -0.001652  0.081629  0.018443  ...  0.414838  1.000000  0.216225\n",
              "Fare            0.012658  0.257307 -0.549500  ...  0.159651  0.216225  1.000000\n",
              "\n",
              "[7 rows x 7 columns]"
            ]
          },
          "metadata": {
            "tags": []
          },
          "execution_count": 7
        }
      ]
    },
    {
      "cell_type": "markdown",
      "metadata": {
        "id": "owxWVu817nCB"
      },
      "source": [
        "Filling NaN values of Cabin with nc: no cabin"
      ]
    },
    {
      "cell_type": "code",
      "metadata": {
        "id": "nPjY9OqsFKoX"
      },
      "source": [
        "df_train['Cabin'].fillna('nc', inplace=True)\n",
        "df_test['Cabin'].fillna('nc', inplace=True)"
      ],
      "execution_count": null,
      "outputs": []
    },
    {
      "cell_type": "code",
      "metadata": {
        "colab": {
          "base_uri": "https://localhost:8080/",
          "height": 417
        },
        "id": "_hqaHTaCFW-5",
        "outputId": "62600c09-bdd7-4521-8494-9f4854d0c733"
      },
      "source": [
        "df_train"
      ],
      "execution_count": null,
      "outputs": [
        {
          "output_type": "execute_result",
          "data": {
            "text/html": [
              "<div>\n",
              "<style scoped>\n",
              "    .dataframe tbody tr th:only-of-type {\n",
              "        vertical-align: middle;\n",
              "    }\n",
              "\n",
              "    .dataframe tbody tr th {\n",
              "        vertical-align: top;\n",
              "    }\n",
              "\n",
              "    .dataframe thead th {\n",
              "        text-align: right;\n",
              "    }\n",
              "</style>\n",
              "<table border=\"1\" class=\"dataframe\">\n",
              "  <thead>\n",
              "    <tr style=\"text-align: right;\">\n",
              "      <th></th>\n",
              "      <th>PassengerId</th>\n",
              "      <th>Survived</th>\n",
              "      <th>Pclass</th>\n",
              "      <th>Sex</th>\n",
              "      <th>Age</th>\n",
              "      <th>SibSp</th>\n",
              "      <th>Parch</th>\n",
              "      <th>Fare</th>\n",
              "      <th>Cabin</th>\n",
              "      <th>Embarked</th>\n",
              "    </tr>\n",
              "  </thead>\n",
              "  <tbody>\n",
              "    <tr>\n",
              "      <th>0</th>\n",
              "      <td>1</td>\n",
              "      <td>0</td>\n",
              "      <td>3</td>\n",
              "      <td>male</td>\n",
              "      <td>22.0</td>\n",
              "      <td>1</td>\n",
              "      <td>0</td>\n",
              "      <td>7.2500</td>\n",
              "      <td>nc</td>\n",
              "      <td>S</td>\n",
              "    </tr>\n",
              "    <tr>\n",
              "      <th>1</th>\n",
              "      <td>2</td>\n",
              "      <td>1</td>\n",
              "      <td>1</td>\n",
              "      <td>female</td>\n",
              "      <td>38.0</td>\n",
              "      <td>1</td>\n",
              "      <td>0</td>\n",
              "      <td>71.2833</td>\n",
              "      <td>C85</td>\n",
              "      <td>C</td>\n",
              "    </tr>\n",
              "    <tr>\n",
              "      <th>2</th>\n",
              "      <td>3</td>\n",
              "      <td>1</td>\n",
              "      <td>3</td>\n",
              "      <td>female</td>\n",
              "      <td>26.0</td>\n",
              "      <td>0</td>\n",
              "      <td>0</td>\n",
              "      <td>7.9250</td>\n",
              "      <td>nc</td>\n",
              "      <td>S</td>\n",
              "    </tr>\n",
              "    <tr>\n",
              "      <th>3</th>\n",
              "      <td>4</td>\n",
              "      <td>1</td>\n",
              "      <td>1</td>\n",
              "      <td>female</td>\n",
              "      <td>35.0</td>\n",
              "      <td>1</td>\n",
              "      <td>0</td>\n",
              "      <td>53.1000</td>\n",
              "      <td>C123</td>\n",
              "      <td>S</td>\n",
              "    </tr>\n",
              "    <tr>\n",
              "      <th>4</th>\n",
              "      <td>5</td>\n",
              "      <td>0</td>\n",
              "      <td>3</td>\n",
              "      <td>male</td>\n",
              "      <td>35.0</td>\n",
              "      <td>0</td>\n",
              "      <td>0</td>\n",
              "      <td>8.0500</td>\n",
              "      <td>nc</td>\n",
              "      <td>S</td>\n",
              "    </tr>\n",
              "    <tr>\n",
              "      <th>...</th>\n",
              "      <td>...</td>\n",
              "      <td>...</td>\n",
              "      <td>...</td>\n",
              "      <td>...</td>\n",
              "      <td>...</td>\n",
              "      <td>...</td>\n",
              "      <td>...</td>\n",
              "      <td>...</td>\n",
              "      <td>...</td>\n",
              "      <td>...</td>\n",
              "    </tr>\n",
              "    <tr>\n",
              "      <th>886</th>\n",
              "      <td>887</td>\n",
              "      <td>0</td>\n",
              "      <td>2</td>\n",
              "      <td>male</td>\n",
              "      <td>27.0</td>\n",
              "      <td>0</td>\n",
              "      <td>0</td>\n",
              "      <td>13.0000</td>\n",
              "      <td>nc</td>\n",
              "      <td>S</td>\n",
              "    </tr>\n",
              "    <tr>\n",
              "      <th>887</th>\n",
              "      <td>888</td>\n",
              "      <td>1</td>\n",
              "      <td>1</td>\n",
              "      <td>female</td>\n",
              "      <td>19.0</td>\n",
              "      <td>0</td>\n",
              "      <td>0</td>\n",
              "      <td>30.0000</td>\n",
              "      <td>B42</td>\n",
              "      <td>S</td>\n",
              "    </tr>\n",
              "    <tr>\n",
              "      <th>888</th>\n",
              "      <td>889</td>\n",
              "      <td>0</td>\n",
              "      <td>3</td>\n",
              "      <td>female</td>\n",
              "      <td>NaN</td>\n",
              "      <td>1</td>\n",
              "      <td>2</td>\n",
              "      <td>23.4500</td>\n",
              "      <td>nc</td>\n",
              "      <td>S</td>\n",
              "    </tr>\n",
              "    <tr>\n",
              "      <th>889</th>\n",
              "      <td>890</td>\n",
              "      <td>1</td>\n",
              "      <td>1</td>\n",
              "      <td>male</td>\n",
              "      <td>26.0</td>\n",
              "      <td>0</td>\n",
              "      <td>0</td>\n",
              "      <td>30.0000</td>\n",
              "      <td>C148</td>\n",
              "      <td>C</td>\n",
              "    </tr>\n",
              "    <tr>\n",
              "      <th>890</th>\n",
              "      <td>891</td>\n",
              "      <td>0</td>\n",
              "      <td>3</td>\n",
              "      <td>male</td>\n",
              "      <td>32.0</td>\n",
              "      <td>0</td>\n",
              "      <td>0</td>\n",
              "      <td>7.7500</td>\n",
              "      <td>nc</td>\n",
              "      <td>Q</td>\n",
              "    </tr>\n",
              "  </tbody>\n",
              "</table>\n",
              "<p>891 rows × 10 columns</p>\n",
              "</div>"
            ],
            "text/plain": [
              "     PassengerId  Survived  Pclass     Sex  ...  Parch     Fare  Cabin  Embarked\n",
              "0              1         0       3    male  ...      0   7.2500     nc         S\n",
              "1              2         1       1  female  ...      0  71.2833    C85         C\n",
              "2              3         1       3  female  ...      0   7.9250     nc         S\n",
              "3              4         1       1  female  ...      0  53.1000   C123         S\n",
              "4              5         0       3    male  ...      0   8.0500     nc         S\n",
              "..           ...       ...     ...     ...  ...    ...      ...    ...       ...\n",
              "886          887         0       2    male  ...      0  13.0000     nc         S\n",
              "887          888         1       1  female  ...      0  30.0000    B42         S\n",
              "888          889         0       3  female  ...      2  23.4500     nc         S\n",
              "889          890         1       1    male  ...      0  30.0000   C148         C\n",
              "890          891         0       3    male  ...      0   7.7500     nc         Q\n",
              "\n",
              "[891 rows x 10 columns]"
            ]
          },
          "metadata": {
            "tags": []
          },
          "execution_count": 9
        }
      ]
    },
    {
      "cell_type": "code",
      "metadata": {
        "colab": {
          "base_uri": "https://localhost:8080/"
        },
        "id": "ROdxcmx6GfxA",
        "outputId": "819cd69a-ed3c-4d0d-8398-3196873f4b74"
      },
      "source": [
        "df_train['Cabin'].unique()"
      ],
      "execution_count": null,
      "outputs": [
        {
          "output_type": "execute_result",
          "data": {
            "text/plain": [
              "array(['nc', 'C85', 'C123', 'E46', 'G6', 'C103', 'D56', 'A6',\n",
              "       'C23 C25 C27', 'B78', 'D33', 'B30', 'C52', 'B28', 'C83', 'F33',\n",
              "       'F G73', 'E31', 'A5', 'D10 D12', 'D26', 'C110', 'B58 B60', 'E101',\n",
              "       'F E69', 'D47', 'B86', 'F2', 'C2', 'E33', 'B19', 'A7', 'C49', 'F4',\n",
              "       'A32', 'B4', 'B80', 'A31', 'D36', 'D15', 'C93', 'C78', 'D35',\n",
              "       'C87', 'B77', 'E67', 'B94', 'C125', 'C99', 'C118', 'D7', 'A19',\n",
              "       'B49', 'D', 'C22 C26', 'C106', 'C65', 'E36', 'C54',\n",
              "       'B57 B59 B63 B66', 'C7', 'E34', 'C32', 'B18', 'C124', 'C91', 'E40',\n",
              "       'T', 'C128', 'D37', 'B35', 'E50', 'C82', 'B96 B98', 'E10', 'E44',\n",
              "       'A34', 'C104', 'C111', 'C92', 'E38', 'D21', 'E12', 'E63', 'A14',\n",
              "       'B37', 'C30', 'D20', 'B79', 'E25', 'D46', 'B73', 'C95', 'B38',\n",
              "       'B39', 'B22', 'C86', 'C70', 'A16', 'C101', 'C68', 'A10', 'E68',\n",
              "       'B41', 'A20', 'D19', 'D50', 'D9', 'A23', 'B50', 'A26', 'D48',\n",
              "       'E58', 'C126', 'B71', 'B51 B53 B55', 'D49', 'B5', 'B20', 'F G63',\n",
              "       'C62 C64', 'E24', 'C90', 'C45', 'E8', 'B101', 'D45', 'C46', 'D30',\n",
              "       'E121', 'D11', 'E77', 'F38', 'B3', 'D6', 'B82 B84', 'D17', 'A36',\n",
              "       'B102', 'B69', 'E49', 'C47', 'D28', 'E17', 'A24', 'C50', 'B42',\n",
              "       'C148'], dtype=object)"
            ]
          },
          "metadata": {
            "tags": []
          },
          "execution_count": 10
        }
      ]
    },
    {
      "cell_type": "markdown",
      "metadata": {
        "id": "m_amLLu37xKB"
      },
      "source": [
        "Storing the first letter of cabin in the cabin column."
      ]
    },
    {
      "cell_type": "code",
      "metadata": {
        "colab": {
          "base_uri": "https://localhost:8080/"
        },
        "id": "tbmQCjgBGpVx",
        "outputId": "6c1043a2-4246-4fd4-b114-7ad4d36efe22"
      },
      "source": [
        "for i in range(len(df_train['Cabin'])):\n",
        "  df_train['Cabin'][i] = df_train['Cabin'][i][0]\n",
        "  \n",
        "for i in range(len(df_test['Cabin'])):\n",
        "  df_test['Cabin'][i] = df_test['Cabin'][i][0]\n",
        "\n",
        "df_train['Cabin'].unique()"
      ],
      "execution_count": null,
      "outputs": [
        {
          "output_type": "stream",
          "text": [
            "/usr/local/lib/python3.7/dist-packages/ipykernel_launcher.py:2: SettingWithCopyWarning: \n",
            "A value is trying to be set on a copy of a slice from a DataFrame\n",
            "\n",
            "See the caveats in the documentation: https://pandas.pydata.org/pandas-docs/stable/user_guide/indexing.html#returning-a-view-versus-a-copy\n",
            "  \n",
            "/usr/local/lib/python3.7/dist-packages/ipykernel_launcher.py:5: SettingWithCopyWarning: \n",
            "A value is trying to be set on a copy of a slice from a DataFrame\n",
            "\n",
            "See the caveats in the documentation: https://pandas.pydata.org/pandas-docs/stable/user_guide/indexing.html#returning-a-view-versus-a-copy\n",
            "  \"\"\"\n"
          ],
          "name": "stderr"
        },
        {
          "output_type": "execute_result",
          "data": {
            "text/plain": [
              "array(['n', 'C', 'E', 'G', 'D', 'A', 'B', 'F', 'T'], dtype=object)"
            ]
          },
          "metadata": {
            "tags": []
          },
          "execution_count": 11
        }
      ]
    },
    {
      "cell_type": "code",
      "metadata": {
        "colab": {
          "base_uri": "https://localhost:8080/"
        },
        "id": "ZfejfOGqbn9V",
        "outputId": "d708ec54-7913-4a4a-9350-3eba43fef36d"
      },
      "source": [
        "for i in range(len(df_test['Cabin'])):\n",
        "  df_test['Cabin'][i] = df_test['Cabin'][i][0]\n",
        "  \n",
        "for i in range(len(df_test['Cabin'])):\n",
        "  df_test['Cabin'][i] = df_test['Cabin'][i][0]\n",
        "\n",
        "df_test['Cabin'].unique()"
      ],
      "execution_count": null,
      "outputs": [
        {
          "output_type": "stream",
          "text": [
            "/usr/local/lib/python3.7/dist-packages/ipykernel_launcher.py:2: SettingWithCopyWarning: \n",
            "A value is trying to be set on a copy of a slice from a DataFrame\n",
            "\n",
            "See the caveats in the documentation: https://pandas.pydata.org/pandas-docs/stable/user_guide/indexing.html#returning-a-view-versus-a-copy\n",
            "  \n",
            "/usr/local/lib/python3.7/dist-packages/ipykernel_launcher.py:5: SettingWithCopyWarning: \n",
            "A value is trying to be set on a copy of a slice from a DataFrame\n",
            "\n",
            "See the caveats in the documentation: https://pandas.pydata.org/pandas-docs/stable/user_guide/indexing.html#returning-a-view-versus-a-copy\n",
            "  \"\"\"\n"
          ],
          "name": "stderr"
        },
        {
          "output_type": "execute_result",
          "data": {
            "text/plain": [
              "array(['n', 'B', 'E', 'A', 'C', 'D', 'F', 'G'], dtype=object)"
            ]
          },
          "metadata": {
            "tags": []
          },
          "execution_count": 12
        }
      ]
    },
    {
      "cell_type": "code",
      "metadata": {
        "colab": {
          "base_uri": "https://localhost:8080/",
          "height": 417
        },
        "id": "XQ5JBHT8HE2r",
        "outputId": "2a6a7301-6444-40c1-ed50-a7c807529eba"
      },
      "source": [
        "df_train"
      ],
      "execution_count": null,
      "outputs": [
        {
          "output_type": "execute_result",
          "data": {
            "text/html": [
              "<div>\n",
              "<style scoped>\n",
              "    .dataframe tbody tr th:only-of-type {\n",
              "        vertical-align: middle;\n",
              "    }\n",
              "\n",
              "    .dataframe tbody tr th {\n",
              "        vertical-align: top;\n",
              "    }\n",
              "\n",
              "    .dataframe thead th {\n",
              "        text-align: right;\n",
              "    }\n",
              "</style>\n",
              "<table border=\"1\" class=\"dataframe\">\n",
              "  <thead>\n",
              "    <tr style=\"text-align: right;\">\n",
              "      <th></th>\n",
              "      <th>PassengerId</th>\n",
              "      <th>Survived</th>\n",
              "      <th>Pclass</th>\n",
              "      <th>Sex</th>\n",
              "      <th>Age</th>\n",
              "      <th>SibSp</th>\n",
              "      <th>Parch</th>\n",
              "      <th>Fare</th>\n",
              "      <th>Cabin</th>\n",
              "      <th>Embarked</th>\n",
              "    </tr>\n",
              "  </thead>\n",
              "  <tbody>\n",
              "    <tr>\n",
              "      <th>0</th>\n",
              "      <td>1</td>\n",
              "      <td>0</td>\n",
              "      <td>3</td>\n",
              "      <td>male</td>\n",
              "      <td>22.0</td>\n",
              "      <td>1</td>\n",
              "      <td>0</td>\n",
              "      <td>7.2500</td>\n",
              "      <td>n</td>\n",
              "      <td>S</td>\n",
              "    </tr>\n",
              "    <tr>\n",
              "      <th>1</th>\n",
              "      <td>2</td>\n",
              "      <td>1</td>\n",
              "      <td>1</td>\n",
              "      <td>female</td>\n",
              "      <td>38.0</td>\n",
              "      <td>1</td>\n",
              "      <td>0</td>\n",
              "      <td>71.2833</td>\n",
              "      <td>C</td>\n",
              "      <td>C</td>\n",
              "    </tr>\n",
              "    <tr>\n",
              "      <th>2</th>\n",
              "      <td>3</td>\n",
              "      <td>1</td>\n",
              "      <td>3</td>\n",
              "      <td>female</td>\n",
              "      <td>26.0</td>\n",
              "      <td>0</td>\n",
              "      <td>0</td>\n",
              "      <td>7.9250</td>\n",
              "      <td>n</td>\n",
              "      <td>S</td>\n",
              "    </tr>\n",
              "    <tr>\n",
              "      <th>3</th>\n",
              "      <td>4</td>\n",
              "      <td>1</td>\n",
              "      <td>1</td>\n",
              "      <td>female</td>\n",
              "      <td>35.0</td>\n",
              "      <td>1</td>\n",
              "      <td>0</td>\n",
              "      <td>53.1000</td>\n",
              "      <td>C</td>\n",
              "      <td>S</td>\n",
              "    </tr>\n",
              "    <tr>\n",
              "      <th>4</th>\n",
              "      <td>5</td>\n",
              "      <td>0</td>\n",
              "      <td>3</td>\n",
              "      <td>male</td>\n",
              "      <td>35.0</td>\n",
              "      <td>0</td>\n",
              "      <td>0</td>\n",
              "      <td>8.0500</td>\n",
              "      <td>n</td>\n",
              "      <td>S</td>\n",
              "    </tr>\n",
              "    <tr>\n",
              "      <th>...</th>\n",
              "      <td>...</td>\n",
              "      <td>...</td>\n",
              "      <td>...</td>\n",
              "      <td>...</td>\n",
              "      <td>...</td>\n",
              "      <td>...</td>\n",
              "      <td>...</td>\n",
              "      <td>...</td>\n",
              "      <td>...</td>\n",
              "      <td>...</td>\n",
              "    </tr>\n",
              "    <tr>\n",
              "      <th>886</th>\n",
              "      <td>887</td>\n",
              "      <td>0</td>\n",
              "      <td>2</td>\n",
              "      <td>male</td>\n",
              "      <td>27.0</td>\n",
              "      <td>0</td>\n",
              "      <td>0</td>\n",
              "      <td>13.0000</td>\n",
              "      <td>n</td>\n",
              "      <td>S</td>\n",
              "    </tr>\n",
              "    <tr>\n",
              "      <th>887</th>\n",
              "      <td>888</td>\n",
              "      <td>1</td>\n",
              "      <td>1</td>\n",
              "      <td>female</td>\n",
              "      <td>19.0</td>\n",
              "      <td>0</td>\n",
              "      <td>0</td>\n",
              "      <td>30.0000</td>\n",
              "      <td>B</td>\n",
              "      <td>S</td>\n",
              "    </tr>\n",
              "    <tr>\n",
              "      <th>888</th>\n",
              "      <td>889</td>\n",
              "      <td>0</td>\n",
              "      <td>3</td>\n",
              "      <td>female</td>\n",
              "      <td>NaN</td>\n",
              "      <td>1</td>\n",
              "      <td>2</td>\n",
              "      <td>23.4500</td>\n",
              "      <td>n</td>\n",
              "      <td>S</td>\n",
              "    </tr>\n",
              "    <tr>\n",
              "      <th>889</th>\n",
              "      <td>890</td>\n",
              "      <td>1</td>\n",
              "      <td>1</td>\n",
              "      <td>male</td>\n",
              "      <td>26.0</td>\n",
              "      <td>0</td>\n",
              "      <td>0</td>\n",
              "      <td>30.0000</td>\n",
              "      <td>C</td>\n",
              "      <td>C</td>\n",
              "    </tr>\n",
              "    <tr>\n",
              "      <th>890</th>\n",
              "      <td>891</td>\n",
              "      <td>0</td>\n",
              "      <td>3</td>\n",
              "      <td>male</td>\n",
              "      <td>32.0</td>\n",
              "      <td>0</td>\n",
              "      <td>0</td>\n",
              "      <td>7.7500</td>\n",
              "      <td>n</td>\n",
              "      <td>Q</td>\n",
              "    </tr>\n",
              "  </tbody>\n",
              "</table>\n",
              "<p>891 rows × 10 columns</p>\n",
              "</div>"
            ],
            "text/plain": [
              "     PassengerId  Survived  Pclass     Sex  ...  Parch     Fare  Cabin  Embarked\n",
              "0              1         0       3    male  ...      0   7.2500      n         S\n",
              "1              2         1       1  female  ...      0  71.2833      C         C\n",
              "2              3         1       3  female  ...      0   7.9250      n         S\n",
              "3              4         1       1  female  ...      0  53.1000      C         S\n",
              "4              5         0       3    male  ...      0   8.0500      n         S\n",
              "..           ...       ...     ...     ...  ...    ...      ...    ...       ...\n",
              "886          887         0       2    male  ...      0  13.0000      n         S\n",
              "887          888         1       1  female  ...      0  30.0000      B         S\n",
              "888          889         0       3  female  ...      2  23.4500      n         S\n",
              "889          890         1       1    male  ...      0  30.0000      C         C\n",
              "890          891         0       3    male  ...      0   7.7500      n         Q\n",
              "\n",
              "[891 rows x 10 columns]"
            ]
          },
          "metadata": {
            "tags": []
          },
          "execution_count": 13
        }
      ]
    },
    {
      "cell_type": "code",
      "metadata": {
        "colab": {
          "base_uri": "https://localhost:8080/"
        },
        "id": "YETFQyX4HGB_",
        "outputId": "8d17f065-f1d9-414a-b55e-d444ffd1129b"
      },
      "source": [
        "df_train.isna().sum()"
      ],
      "execution_count": null,
      "outputs": [
        {
          "output_type": "execute_result",
          "data": {
            "text/plain": [
              "PassengerId      0\n",
              "Survived         0\n",
              "Pclass           0\n",
              "Sex              0\n",
              "Age            177\n",
              "SibSp            0\n",
              "Parch            0\n",
              "Fare             0\n",
              "Cabin            0\n",
              "Embarked         2\n",
              "dtype: int64"
            ]
          },
          "metadata": {
            "tags": []
          },
          "execution_count": 14
        }
      ]
    },
    {
      "cell_type": "code",
      "metadata": {
        "id": "qIlZYTSBIQ5s",
        "colab": {
          "base_uri": "https://localhost:8080/",
          "height": 172
        },
        "outputId": "bae94a4e-f8a1-449e-e1c2-bcd408c19005"
      },
      "source": [
        "df_train.groupby(by='Pclass').mean()"
      ],
      "execution_count": null,
      "outputs": [
        {
          "output_type": "execute_result",
          "data": {
            "text/html": [
              "<div>\n",
              "<style scoped>\n",
              "    .dataframe tbody tr th:only-of-type {\n",
              "        vertical-align: middle;\n",
              "    }\n",
              "\n",
              "    .dataframe tbody tr th {\n",
              "        vertical-align: top;\n",
              "    }\n",
              "\n",
              "    .dataframe thead th {\n",
              "        text-align: right;\n",
              "    }\n",
              "</style>\n",
              "<table border=\"1\" class=\"dataframe\">\n",
              "  <thead>\n",
              "    <tr style=\"text-align: right;\">\n",
              "      <th></th>\n",
              "      <th>PassengerId</th>\n",
              "      <th>Survived</th>\n",
              "      <th>Age</th>\n",
              "      <th>SibSp</th>\n",
              "      <th>Parch</th>\n",
              "      <th>Fare</th>\n",
              "    </tr>\n",
              "    <tr>\n",
              "      <th>Pclass</th>\n",
              "      <th></th>\n",
              "      <th></th>\n",
              "      <th></th>\n",
              "      <th></th>\n",
              "      <th></th>\n",
              "      <th></th>\n",
              "    </tr>\n",
              "  </thead>\n",
              "  <tbody>\n",
              "    <tr>\n",
              "      <th>1</th>\n",
              "      <td>461.597222</td>\n",
              "      <td>0.629630</td>\n",
              "      <td>38.233441</td>\n",
              "      <td>0.416667</td>\n",
              "      <td>0.356481</td>\n",
              "      <td>84.154687</td>\n",
              "    </tr>\n",
              "    <tr>\n",
              "      <th>2</th>\n",
              "      <td>445.956522</td>\n",
              "      <td>0.472826</td>\n",
              "      <td>29.877630</td>\n",
              "      <td>0.402174</td>\n",
              "      <td>0.380435</td>\n",
              "      <td>20.662183</td>\n",
              "    </tr>\n",
              "    <tr>\n",
              "      <th>3</th>\n",
              "      <td>439.154786</td>\n",
              "      <td>0.242363</td>\n",
              "      <td>25.140620</td>\n",
              "      <td>0.615071</td>\n",
              "      <td>0.393075</td>\n",
              "      <td>13.675550</td>\n",
              "    </tr>\n",
              "  </tbody>\n",
              "</table>\n",
              "</div>"
            ],
            "text/plain": [
              "        PassengerId  Survived        Age     SibSp     Parch       Fare\n",
              "Pclass                                                                 \n",
              "1        461.597222  0.629630  38.233441  0.416667  0.356481  84.154687\n",
              "2        445.956522  0.472826  29.877630  0.402174  0.380435  20.662183\n",
              "3        439.154786  0.242363  25.140620  0.615071  0.393075  13.675550"
            ]
          },
          "metadata": {
            "tags": []
          },
          "execution_count": 15
        }
      ]
    },
    {
      "cell_type": "code",
      "metadata": {
        "colab": {
          "base_uri": "https://localhost:8080/"
        },
        "id": "9w_dteSpEOWP",
        "outputId": "8eefb371-5fc9-4156-a2b3-85ea11ed0bae"
      },
      "source": [
        "for i in range(len(df_test['Pclass'])):\n",
        "  if (df_train['Pclass'][i] == 1 & pd.isna(df_train['Age'][i])):\n",
        "    df_train['Age'][i] = 38\n",
        "  if (df_train['Pclass'][i] == 2 & pd.isna(df_train['Age'][i])):\n",
        "    df_train['Age'][i] = 30\n",
        "  if (df_train['Pclass'][i] == 1 & pd.isna(df_train['Age'][i])):\n",
        "    df_train['Age'][i] = 25"
      ],
      "execution_count": null,
      "outputs": [
        {
          "output_type": "stream",
          "text": [
            "/usr/local/lib/python3.7/dist-packages/ipykernel_launcher.py:3: SettingWithCopyWarning: \n",
            "A value is trying to be set on a copy of a slice from a DataFrame\n",
            "\n",
            "See the caveats in the documentation: https://pandas.pydata.org/pandas-docs/stable/user_guide/indexing.html#returning-a-view-versus-a-copy\n",
            "  This is separate from the ipykernel package so we can avoid doing imports until\n"
          ],
          "name": "stderr"
        }
      ]
    },
    {
      "cell_type": "code",
      "metadata": {
        "colab": {
          "base_uri": "https://localhost:8080/"
        },
        "id": "_FhKqhxFJaVW",
        "outputId": "c069003d-c274-4c62-91dc-888a3a4561e5"
      },
      "source": [
        "df_train.isna().sum()"
      ],
      "execution_count": null,
      "outputs": [
        {
          "output_type": "execute_result",
          "data": {
            "text/plain": [
              "PassengerId      0\n",
              "Survived         0\n",
              "Pclass           0\n",
              "Sex              0\n",
              "Age            162\n",
              "SibSp            0\n",
              "Parch            0\n",
              "Fare             0\n",
              "Cabin            0\n",
              "Embarked         2\n",
              "dtype: int64"
            ]
          },
          "metadata": {
            "tags": []
          },
          "execution_count": 17
        }
      ]
    },
    {
      "cell_type": "code",
      "metadata": {
        "colab": {
          "base_uri": "https://localhost:8080/",
          "height": 172
        },
        "id": "pyE-6hnba12g",
        "outputId": "5fb2cf44-6f60-4d7a-e72f-ffd5b62bd062"
      },
      "source": [
        "df_test.groupby(by='Pclass',).mean()"
      ],
      "execution_count": null,
      "outputs": [
        {
          "output_type": "execute_result",
          "data": {
            "text/html": [
              "<div>\n",
              "<style scoped>\n",
              "    .dataframe tbody tr th:only-of-type {\n",
              "        vertical-align: middle;\n",
              "    }\n",
              "\n",
              "    .dataframe tbody tr th {\n",
              "        vertical-align: top;\n",
              "    }\n",
              "\n",
              "    .dataframe thead th {\n",
              "        text-align: right;\n",
              "    }\n",
              "</style>\n",
              "<table border=\"1\" class=\"dataframe\">\n",
              "  <thead>\n",
              "    <tr style=\"text-align: right;\">\n",
              "      <th></th>\n",
              "      <th>PassengerId</th>\n",
              "      <th>Age</th>\n",
              "      <th>SibSp</th>\n",
              "      <th>Parch</th>\n",
              "      <th>Fare</th>\n",
              "    </tr>\n",
              "    <tr>\n",
              "      <th>Pclass</th>\n",
              "      <th></th>\n",
              "      <th></th>\n",
              "      <th></th>\n",
              "      <th></th>\n",
              "      <th></th>\n",
              "    </tr>\n",
              "  </thead>\n",
              "  <tbody>\n",
              "    <tr>\n",
              "      <th>1</th>\n",
              "      <td>1098.224299</td>\n",
              "      <td>40.918367</td>\n",
              "      <td>0.476636</td>\n",
              "      <td>0.383178</td>\n",
              "      <td>94.280297</td>\n",
              "    </tr>\n",
              "    <tr>\n",
              "      <th>2</th>\n",
              "      <td>1117.935484</td>\n",
              "      <td>28.777500</td>\n",
              "      <td>0.376344</td>\n",
              "      <td>0.344086</td>\n",
              "      <td>22.202104</td>\n",
              "    </tr>\n",
              "    <tr>\n",
              "      <th>3</th>\n",
              "      <td>1094.178899</td>\n",
              "      <td>24.027945</td>\n",
              "      <td>0.463303</td>\n",
              "      <td>0.417431</td>\n",
              "      <td>12.459678</td>\n",
              "    </tr>\n",
              "  </tbody>\n",
              "</table>\n",
              "</div>"
            ],
            "text/plain": [
              "        PassengerId        Age     SibSp     Parch       Fare\n",
              "Pclass                                                       \n",
              "1       1098.224299  40.918367  0.476636  0.383178  94.280297\n",
              "2       1117.935484  28.777500  0.376344  0.344086  22.202104\n",
              "3       1094.178899  24.027945  0.463303  0.417431  12.459678"
            ]
          },
          "metadata": {
            "tags": []
          },
          "execution_count": 18
        }
      ]
    },
    {
      "cell_type": "code",
      "metadata": {
        "colab": {
          "base_uri": "https://localhost:8080/"
        },
        "id": "K7FYan2Va-Bx",
        "outputId": "fc69e018-7e8a-4984-ab29-edadb7bc6388"
      },
      "source": [
        "for i in range(len(df_test['Pclass'])):\n",
        "  if (df_test['Pclass'][i] == 1 & pd.isna(df_test['Age'][i])):\n",
        "    df_test['Age'][i] = 40\n",
        "  if (df_test['Pclass'][i] == 2 & pd.isna(df_test['Age'][i])):\n",
        "    df_test['Age'][i] = 28\n",
        "  if (df_test['Pclass'][i] == 1 & pd.isna(df_test['Age'][i])):\n",
        "    df_test['Age'][i] = 24"
      ],
      "execution_count": null,
      "outputs": [
        {
          "output_type": "stream",
          "text": [
            "/usr/local/lib/python3.7/dist-packages/ipykernel_launcher.py:3: SettingWithCopyWarning: \n",
            "A value is trying to be set on a copy of a slice from a DataFrame\n",
            "\n",
            "See the caveats in the documentation: https://pandas.pydata.org/pandas-docs/stable/user_guide/indexing.html#returning-a-view-versus-a-copy\n",
            "  This is separate from the ipykernel package so we can avoid doing imports until\n"
          ],
          "name": "stderr"
        }
      ]
    },
    {
      "cell_type": "code",
      "metadata": {
        "colab": {
          "base_uri": "https://localhost:8080/"
        },
        "id": "SpaYMdMBbTVv",
        "outputId": "15c74096-f7bc-450a-f5a5-669401577322"
      },
      "source": [
        "df_test.isna().sum()"
      ],
      "execution_count": null,
      "outputs": [
        {
          "output_type": "execute_result",
          "data": {
            "text/plain": [
              "PassengerId     0\n",
              "Pclass          0\n",
              "Sex             0\n",
              "Age            77\n",
              "SibSp           0\n",
              "Parch           0\n",
              "Fare            1\n",
              "Cabin           0\n",
              "Embarked        0\n",
              "dtype: int64"
            ]
          },
          "metadata": {
            "tags": []
          },
          "execution_count": 20
        }
      ]
    },
    {
      "cell_type": "code",
      "metadata": {
        "colab": {
          "base_uri": "https://localhost:8080/"
        },
        "id": "ptRmQwgXJg4t",
        "outputId": "bff68fab-df9b-4d75-8666-f53b7a417ead"
      },
      "source": [
        "df_train['Embarked'].unique()"
      ],
      "execution_count": null,
      "outputs": [
        {
          "output_type": "execute_result",
          "data": {
            "text/plain": [
              "array(['S', 'C', 'Q', nan], dtype=object)"
            ]
          },
          "metadata": {
            "tags": []
          },
          "execution_count": 21
        }
      ]
    },
    {
      "cell_type": "code",
      "metadata": {
        "id": "0SabK2lVJlU4"
      },
      "source": [
        "df_train['Embarked'].fillna(df_train['Embarked'].mode()[0], inplace=True)"
      ],
      "execution_count": null,
      "outputs": []
    },
    {
      "cell_type": "code",
      "metadata": {
        "colab": {
          "base_uri": "https://localhost:8080/"
        },
        "id": "8YOnOXaUckAX",
        "outputId": "769eeb5b-0e44-4017-ee5d-a554c948b3b2"
      },
      "source": [
        "df_test['Embarked'].unique()"
      ],
      "execution_count": null,
      "outputs": [
        {
          "output_type": "execute_result",
          "data": {
            "text/plain": [
              "array(['Q', 'S', 'C'], dtype=object)"
            ]
          },
          "metadata": {
            "tags": []
          },
          "execution_count": 23
        }
      ]
    },
    {
      "cell_type": "code",
      "metadata": {
        "colab": {
          "base_uri": "https://localhost:8080/"
        },
        "id": "h5ZuCKwDJuvO",
        "outputId": "32f3cdb0-ab13-42a7-d523-31dcd7c3810f"
      },
      "source": [
        "df_train.isna().sum()"
      ],
      "execution_count": null,
      "outputs": [
        {
          "output_type": "execute_result",
          "data": {
            "text/plain": [
              "PassengerId      0\n",
              "Survived         0\n",
              "Pclass           0\n",
              "Sex              0\n",
              "Age            162\n",
              "SibSp            0\n",
              "Parch            0\n",
              "Fare             0\n",
              "Cabin            0\n",
              "Embarked         0\n",
              "dtype: int64"
            ]
          },
          "metadata": {
            "tags": []
          },
          "execution_count": 24
        }
      ]
    },
    {
      "cell_type": "code",
      "metadata": {
        "colab": {
          "base_uri": "https://localhost:8080/",
          "height": 417
        },
        "id": "bmqqiKNpJxJI",
        "outputId": "3bfbaf05-3da6-491c-e2ab-46ecbe448334"
      },
      "source": [
        "df_train"
      ],
      "execution_count": null,
      "outputs": [
        {
          "output_type": "execute_result",
          "data": {
            "text/html": [
              "<div>\n",
              "<style scoped>\n",
              "    .dataframe tbody tr th:only-of-type {\n",
              "        vertical-align: middle;\n",
              "    }\n",
              "\n",
              "    .dataframe tbody tr th {\n",
              "        vertical-align: top;\n",
              "    }\n",
              "\n",
              "    .dataframe thead th {\n",
              "        text-align: right;\n",
              "    }\n",
              "</style>\n",
              "<table border=\"1\" class=\"dataframe\">\n",
              "  <thead>\n",
              "    <tr style=\"text-align: right;\">\n",
              "      <th></th>\n",
              "      <th>PassengerId</th>\n",
              "      <th>Survived</th>\n",
              "      <th>Pclass</th>\n",
              "      <th>Sex</th>\n",
              "      <th>Age</th>\n",
              "      <th>SibSp</th>\n",
              "      <th>Parch</th>\n",
              "      <th>Fare</th>\n",
              "      <th>Cabin</th>\n",
              "      <th>Embarked</th>\n",
              "    </tr>\n",
              "  </thead>\n",
              "  <tbody>\n",
              "    <tr>\n",
              "      <th>0</th>\n",
              "      <td>1</td>\n",
              "      <td>0</td>\n",
              "      <td>3</td>\n",
              "      <td>male</td>\n",
              "      <td>22.0</td>\n",
              "      <td>1</td>\n",
              "      <td>0</td>\n",
              "      <td>7.2500</td>\n",
              "      <td>n</td>\n",
              "      <td>S</td>\n",
              "    </tr>\n",
              "    <tr>\n",
              "      <th>1</th>\n",
              "      <td>2</td>\n",
              "      <td>1</td>\n",
              "      <td>1</td>\n",
              "      <td>female</td>\n",
              "      <td>38.0</td>\n",
              "      <td>1</td>\n",
              "      <td>0</td>\n",
              "      <td>71.2833</td>\n",
              "      <td>C</td>\n",
              "      <td>C</td>\n",
              "    </tr>\n",
              "    <tr>\n",
              "      <th>2</th>\n",
              "      <td>3</td>\n",
              "      <td>1</td>\n",
              "      <td>3</td>\n",
              "      <td>female</td>\n",
              "      <td>26.0</td>\n",
              "      <td>0</td>\n",
              "      <td>0</td>\n",
              "      <td>7.9250</td>\n",
              "      <td>n</td>\n",
              "      <td>S</td>\n",
              "    </tr>\n",
              "    <tr>\n",
              "      <th>3</th>\n",
              "      <td>4</td>\n",
              "      <td>1</td>\n",
              "      <td>1</td>\n",
              "      <td>female</td>\n",
              "      <td>35.0</td>\n",
              "      <td>1</td>\n",
              "      <td>0</td>\n",
              "      <td>53.1000</td>\n",
              "      <td>C</td>\n",
              "      <td>S</td>\n",
              "    </tr>\n",
              "    <tr>\n",
              "      <th>4</th>\n",
              "      <td>5</td>\n",
              "      <td>0</td>\n",
              "      <td>3</td>\n",
              "      <td>male</td>\n",
              "      <td>35.0</td>\n",
              "      <td>0</td>\n",
              "      <td>0</td>\n",
              "      <td>8.0500</td>\n",
              "      <td>n</td>\n",
              "      <td>S</td>\n",
              "    </tr>\n",
              "    <tr>\n",
              "      <th>...</th>\n",
              "      <td>...</td>\n",
              "      <td>...</td>\n",
              "      <td>...</td>\n",
              "      <td>...</td>\n",
              "      <td>...</td>\n",
              "      <td>...</td>\n",
              "      <td>...</td>\n",
              "      <td>...</td>\n",
              "      <td>...</td>\n",
              "      <td>...</td>\n",
              "    </tr>\n",
              "    <tr>\n",
              "      <th>886</th>\n",
              "      <td>887</td>\n",
              "      <td>0</td>\n",
              "      <td>2</td>\n",
              "      <td>male</td>\n",
              "      <td>27.0</td>\n",
              "      <td>0</td>\n",
              "      <td>0</td>\n",
              "      <td>13.0000</td>\n",
              "      <td>n</td>\n",
              "      <td>S</td>\n",
              "    </tr>\n",
              "    <tr>\n",
              "      <th>887</th>\n",
              "      <td>888</td>\n",
              "      <td>1</td>\n",
              "      <td>1</td>\n",
              "      <td>female</td>\n",
              "      <td>19.0</td>\n",
              "      <td>0</td>\n",
              "      <td>0</td>\n",
              "      <td>30.0000</td>\n",
              "      <td>B</td>\n",
              "      <td>S</td>\n",
              "    </tr>\n",
              "    <tr>\n",
              "      <th>888</th>\n",
              "      <td>889</td>\n",
              "      <td>0</td>\n",
              "      <td>3</td>\n",
              "      <td>female</td>\n",
              "      <td>NaN</td>\n",
              "      <td>1</td>\n",
              "      <td>2</td>\n",
              "      <td>23.4500</td>\n",
              "      <td>n</td>\n",
              "      <td>S</td>\n",
              "    </tr>\n",
              "    <tr>\n",
              "      <th>889</th>\n",
              "      <td>890</td>\n",
              "      <td>1</td>\n",
              "      <td>1</td>\n",
              "      <td>male</td>\n",
              "      <td>26.0</td>\n",
              "      <td>0</td>\n",
              "      <td>0</td>\n",
              "      <td>30.0000</td>\n",
              "      <td>C</td>\n",
              "      <td>C</td>\n",
              "    </tr>\n",
              "    <tr>\n",
              "      <th>890</th>\n",
              "      <td>891</td>\n",
              "      <td>0</td>\n",
              "      <td>3</td>\n",
              "      <td>male</td>\n",
              "      <td>32.0</td>\n",
              "      <td>0</td>\n",
              "      <td>0</td>\n",
              "      <td>7.7500</td>\n",
              "      <td>n</td>\n",
              "      <td>Q</td>\n",
              "    </tr>\n",
              "  </tbody>\n",
              "</table>\n",
              "<p>891 rows × 10 columns</p>\n",
              "</div>"
            ],
            "text/plain": [
              "     PassengerId  Survived  Pclass     Sex  ...  Parch     Fare  Cabin  Embarked\n",
              "0              1         0       3    male  ...      0   7.2500      n         S\n",
              "1              2         1       1  female  ...      0  71.2833      C         C\n",
              "2              3         1       3  female  ...      0   7.9250      n         S\n",
              "3              4         1       1  female  ...      0  53.1000      C         S\n",
              "4              5         0       3    male  ...      0   8.0500      n         S\n",
              "..           ...       ...     ...     ...  ...    ...      ...    ...       ...\n",
              "886          887         0       2    male  ...      0  13.0000      n         S\n",
              "887          888         1       1  female  ...      0  30.0000      B         S\n",
              "888          889         0       3  female  ...      2  23.4500      n         S\n",
              "889          890         1       1    male  ...      0  30.0000      C         C\n",
              "890          891         0       3    male  ...      0   7.7500      n         Q\n",
              "\n",
              "[891 rows x 10 columns]"
            ]
          },
          "metadata": {
            "tags": []
          },
          "execution_count": 25
        }
      ]
    },
    {
      "cell_type": "code",
      "metadata": {
        "colab": {
          "base_uri": "https://localhost:8080/",
          "height": 265
        },
        "id": "01U8mBBKc263",
        "outputId": "2c9197da-e200-40de-9d22-430a2d60cc99"
      },
      "source": [
        "df_train.corr()"
      ],
      "execution_count": null,
      "outputs": [
        {
          "output_type": "execute_result",
          "data": {
            "text/html": [
              "<div>\n",
              "<style scoped>\n",
              "    .dataframe tbody tr th:only-of-type {\n",
              "        vertical-align: middle;\n",
              "    }\n",
              "\n",
              "    .dataframe tbody tr th {\n",
              "        vertical-align: top;\n",
              "    }\n",
              "\n",
              "    .dataframe thead th {\n",
              "        text-align: right;\n",
              "    }\n",
              "</style>\n",
              "<table border=\"1\" class=\"dataframe\">\n",
              "  <thead>\n",
              "    <tr style=\"text-align: right;\">\n",
              "      <th></th>\n",
              "      <th>PassengerId</th>\n",
              "      <th>Survived</th>\n",
              "      <th>Pclass</th>\n",
              "      <th>Age</th>\n",
              "      <th>SibSp</th>\n",
              "      <th>Parch</th>\n",
              "      <th>Fare</th>\n",
              "    </tr>\n",
              "  </thead>\n",
              "  <tbody>\n",
              "    <tr>\n",
              "      <th>PassengerId</th>\n",
              "      <td>1.000000</td>\n",
              "      <td>-0.005007</td>\n",
              "      <td>-0.035144</td>\n",
              "      <td>0.026592</td>\n",
              "      <td>-0.057527</td>\n",
              "      <td>-0.001652</td>\n",
              "      <td>0.012658</td>\n",
              "    </tr>\n",
              "    <tr>\n",
              "      <th>Survived</th>\n",
              "      <td>-0.005007</td>\n",
              "      <td>1.000000</td>\n",
              "      <td>-0.338481</td>\n",
              "      <td>-0.073088</td>\n",
              "      <td>-0.035322</td>\n",
              "      <td>0.081629</td>\n",
              "      <td>0.257307</td>\n",
              "    </tr>\n",
              "    <tr>\n",
              "      <th>Pclass</th>\n",
              "      <td>-0.035144</td>\n",
              "      <td>-0.338481</td>\n",
              "      <td>1.000000</td>\n",
              "      <td>-0.376943</td>\n",
              "      <td>0.083081</td>\n",
              "      <td>0.018443</td>\n",
              "      <td>-0.549500</td>\n",
              "    </tr>\n",
              "    <tr>\n",
              "      <th>Age</th>\n",
              "      <td>0.026592</td>\n",
              "      <td>-0.073088</td>\n",
              "      <td>-0.376943</td>\n",
              "      <td>1.000000</td>\n",
              "      <td>-0.310197</td>\n",
              "      <td>-0.192966</td>\n",
              "      <td>0.100481</td>\n",
              "    </tr>\n",
              "    <tr>\n",
              "      <th>SibSp</th>\n",
              "      <td>-0.057527</td>\n",
              "      <td>-0.035322</td>\n",
              "      <td>0.083081</td>\n",
              "      <td>-0.310197</td>\n",
              "      <td>1.000000</td>\n",
              "      <td>0.414838</td>\n",
              "      <td>0.159651</td>\n",
              "    </tr>\n",
              "    <tr>\n",
              "      <th>Parch</th>\n",
              "      <td>-0.001652</td>\n",
              "      <td>0.081629</td>\n",
              "      <td>0.018443</td>\n",
              "      <td>-0.192966</td>\n",
              "      <td>0.414838</td>\n",
              "      <td>1.000000</td>\n",
              "      <td>0.216225</td>\n",
              "    </tr>\n",
              "    <tr>\n",
              "      <th>Fare</th>\n",
              "      <td>0.012658</td>\n",
              "      <td>0.257307</td>\n",
              "      <td>-0.549500</td>\n",
              "      <td>0.100481</td>\n",
              "      <td>0.159651</td>\n",
              "      <td>0.216225</td>\n",
              "      <td>1.000000</td>\n",
              "    </tr>\n",
              "  </tbody>\n",
              "</table>\n",
              "</div>"
            ],
            "text/plain": [
              "             PassengerId  Survived    Pclass  ...     SibSp     Parch      Fare\n",
              "PassengerId     1.000000 -0.005007 -0.035144  ... -0.057527 -0.001652  0.012658\n",
              "Survived       -0.005007  1.000000 -0.338481  ... -0.035322  0.081629  0.257307\n",
              "Pclass         -0.035144 -0.338481  1.000000  ...  0.083081  0.018443 -0.549500\n",
              "Age             0.026592 -0.073088 -0.376943  ... -0.310197 -0.192966  0.100481\n",
              "SibSp          -0.057527 -0.035322  0.083081  ...  1.000000  0.414838  0.159651\n",
              "Parch          -0.001652  0.081629  0.018443  ...  0.414838  1.000000  0.216225\n",
              "Fare            0.012658  0.257307 -0.549500  ...  0.159651  0.216225  1.000000\n",
              "\n",
              "[7 rows x 7 columns]"
            ]
          },
          "metadata": {
            "tags": []
          },
          "execution_count": 26
        }
      ]
    },
    {
      "cell_type": "code",
      "metadata": {
        "colab": {
          "base_uri": "https://localhost:8080/",
          "height": 417
        },
        "id": "qSiVP_QMKUyw",
        "outputId": "1c6ad3be-8edf-4b22-f92d-0ab3e906cb36"
      },
      "source": [
        "from sklearn.preprocessing import MinMaxScaler\n",
        "df_train['Age'] = MinMaxScaler().fit_transform(np.array(df_train['Age']).reshape(-1,1))\n",
        "df_train['Fare'] = MinMaxScaler().fit_transform(np.array(df_train['Fare']).reshape(-1,1))\n",
        "df_train"
      ],
      "execution_count": null,
      "outputs": [
        {
          "output_type": "execute_result",
          "data": {
            "text/html": [
              "<div>\n",
              "<style scoped>\n",
              "    .dataframe tbody tr th:only-of-type {\n",
              "        vertical-align: middle;\n",
              "    }\n",
              "\n",
              "    .dataframe tbody tr th {\n",
              "        vertical-align: top;\n",
              "    }\n",
              "\n",
              "    .dataframe thead th {\n",
              "        text-align: right;\n",
              "    }\n",
              "</style>\n",
              "<table border=\"1\" class=\"dataframe\">\n",
              "  <thead>\n",
              "    <tr style=\"text-align: right;\">\n",
              "      <th></th>\n",
              "      <th>PassengerId</th>\n",
              "      <th>Survived</th>\n",
              "      <th>Pclass</th>\n",
              "      <th>Sex</th>\n",
              "      <th>Age</th>\n",
              "      <th>SibSp</th>\n",
              "      <th>Parch</th>\n",
              "      <th>Fare</th>\n",
              "      <th>Cabin</th>\n",
              "      <th>Embarked</th>\n",
              "    </tr>\n",
              "  </thead>\n",
              "  <tbody>\n",
              "    <tr>\n",
              "      <th>0</th>\n",
              "      <td>1</td>\n",
              "      <td>0</td>\n",
              "      <td>3</td>\n",
              "      <td>male</td>\n",
              "      <td>0.271174</td>\n",
              "      <td>1</td>\n",
              "      <td>0</td>\n",
              "      <td>0.014151</td>\n",
              "      <td>n</td>\n",
              "      <td>S</td>\n",
              "    </tr>\n",
              "    <tr>\n",
              "      <th>1</th>\n",
              "      <td>2</td>\n",
              "      <td>1</td>\n",
              "      <td>1</td>\n",
              "      <td>female</td>\n",
              "      <td>0.472229</td>\n",
              "      <td>1</td>\n",
              "      <td>0</td>\n",
              "      <td>0.139136</td>\n",
              "      <td>C</td>\n",
              "      <td>C</td>\n",
              "    </tr>\n",
              "    <tr>\n",
              "      <th>2</th>\n",
              "      <td>3</td>\n",
              "      <td>1</td>\n",
              "      <td>3</td>\n",
              "      <td>female</td>\n",
              "      <td>0.321438</td>\n",
              "      <td>0</td>\n",
              "      <td>0</td>\n",
              "      <td>0.015469</td>\n",
              "      <td>n</td>\n",
              "      <td>S</td>\n",
              "    </tr>\n",
              "    <tr>\n",
              "      <th>3</th>\n",
              "      <td>4</td>\n",
              "      <td>1</td>\n",
              "      <td>1</td>\n",
              "      <td>female</td>\n",
              "      <td>0.434531</td>\n",
              "      <td>1</td>\n",
              "      <td>0</td>\n",
              "      <td>0.103644</td>\n",
              "      <td>C</td>\n",
              "      <td>S</td>\n",
              "    </tr>\n",
              "    <tr>\n",
              "      <th>4</th>\n",
              "      <td>5</td>\n",
              "      <td>0</td>\n",
              "      <td>3</td>\n",
              "      <td>male</td>\n",
              "      <td>0.434531</td>\n",
              "      <td>0</td>\n",
              "      <td>0</td>\n",
              "      <td>0.015713</td>\n",
              "      <td>n</td>\n",
              "      <td>S</td>\n",
              "    </tr>\n",
              "    <tr>\n",
              "      <th>...</th>\n",
              "      <td>...</td>\n",
              "      <td>...</td>\n",
              "      <td>...</td>\n",
              "      <td>...</td>\n",
              "      <td>...</td>\n",
              "      <td>...</td>\n",
              "      <td>...</td>\n",
              "      <td>...</td>\n",
              "      <td>...</td>\n",
              "      <td>...</td>\n",
              "    </tr>\n",
              "    <tr>\n",
              "      <th>886</th>\n",
              "      <td>887</td>\n",
              "      <td>0</td>\n",
              "      <td>2</td>\n",
              "      <td>male</td>\n",
              "      <td>0.334004</td>\n",
              "      <td>0</td>\n",
              "      <td>0</td>\n",
              "      <td>0.025374</td>\n",
              "      <td>n</td>\n",
              "      <td>S</td>\n",
              "    </tr>\n",
              "    <tr>\n",
              "      <th>887</th>\n",
              "      <td>888</td>\n",
              "      <td>1</td>\n",
              "      <td>1</td>\n",
              "      <td>female</td>\n",
              "      <td>0.233476</td>\n",
              "      <td>0</td>\n",
              "      <td>0</td>\n",
              "      <td>0.058556</td>\n",
              "      <td>B</td>\n",
              "      <td>S</td>\n",
              "    </tr>\n",
              "    <tr>\n",
              "      <th>888</th>\n",
              "      <td>889</td>\n",
              "      <td>0</td>\n",
              "      <td>3</td>\n",
              "      <td>female</td>\n",
              "      <td>NaN</td>\n",
              "      <td>1</td>\n",
              "      <td>2</td>\n",
              "      <td>0.045771</td>\n",
              "      <td>n</td>\n",
              "      <td>S</td>\n",
              "    </tr>\n",
              "    <tr>\n",
              "      <th>889</th>\n",
              "      <td>890</td>\n",
              "      <td>1</td>\n",
              "      <td>1</td>\n",
              "      <td>male</td>\n",
              "      <td>0.321438</td>\n",
              "      <td>0</td>\n",
              "      <td>0</td>\n",
              "      <td>0.058556</td>\n",
              "      <td>C</td>\n",
              "      <td>C</td>\n",
              "    </tr>\n",
              "    <tr>\n",
              "      <th>890</th>\n",
              "      <td>891</td>\n",
              "      <td>0</td>\n",
              "      <td>3</td>\n",
              "      <td>male</td>\n",
              "      <td>0.396833</td>\n",
              "      <td>0</td>\n",
              "      <td>0</td>\n",
              "      <td>0.015127</td>\n",
              "      <td>n</td>\n",
              "      <td>Q</td>\n",
              "    </tr>\n",
              "  </tbody>\n",
              "</table>\n",
              "<p>891 rows × 10 columns</p>\n",
              "</div>"
            ],
            "text/plain": [
              "     PassengerId  Survived  Pclass     Sex  ...  Parch      Fare  Cabin  Embarked\n",
              "0              1         0       3    male  ...      0  0.014151      n         S\n",
              "1              2         1       1  female  ...      0  0.139136      C         C\n",
              "2              3         1       3  female  ...      0  0.015469      n         S\n",
              "3              4         1       1  female  ...      0  0.103644      C         S\n",
              "4              5         0       3    male  ...      0  0.015713      n         S\n",
              "..           ...       ...     ...     ...  ...    ...       ...    ...       ...\n",
              "886          887         0       2    male  ...      0  0.025374      n         S\n",
              "887          888         1       1  female  ...      0  0.058556      B         S\n",
              "888          889         0       3  female  ...      2  0.045771      n         S\n",
              "889          890         1       1    male  ...      0  0.058556      C         C\n",
              "890          891         0       3    male  ...      0  0.015127      n         Q\n",
              "\n",
              "[891 rows x 10 columns]"
            ]
          },
          "metadata": {
            "tags": []
          },
          "execution_count": 27
        }
      ]
    },
    {
      "cell_type": "code",
      "metadata": {
        "id": "O-mBYQazh2qe"
      },
      "source": [
        "df_test['Age'] = MinMaxScaler().fit_transform(np.array(df_test['Age']).reshape(-1,1))\n",
        "df_test['Fare'] = MinMaxScaler().fit_transform(np.array(df_test['Fare']).reshape(-1,1))"
      ],
      "execution_count": null,
      "outputs": []
    },
    {
      "cell_type": "code",
      "metadata": {
        "id": "YlBQZ4qLh7IV"
      },
      "source": [
        "df_train['Sex'] = df_train['Sex'].map({'male': 0,'female': 1})\n",
        "df_test['Sex'] = df_test['Sex'].map({'male': 0,'female': 1})"
      ],
      "execution_count": null,
      "outputs": []
    },
    {
      "cell_type": "code",
      "metadata": {
        "id": "2QPbuUm5NVe9",
        "colab": {
          "base_uri": "https://localhost:8080/",
          "height": 437
        },
        "outputId": "37ad549b-f6ed-472f-b209-d22ab5ae39e4"
      },
      "source": [
        "df_train = pd.get_dummies(df_train)\n",
        "df_train"
      ],
      "execution_count": null,
      "outputs": [
        {
          "output_type": "execute_result",
          "data": {
            "text/html": [
              "<div>\n",
              "<style scoped>\n",
              "    .dataframe tbody tr th:only-of-type {\n",
              "        vertical-align: middle;\n",
              "    }\n",
              "\n",
              "    .dataframe tbody tr th {\n",
              "        vertical-align: top;\n",
              "    }\n",
              "\n",
              "    .dataframe thead th {\n",
              "        text-align: right;\n",
              "    }\n",
              "</style>\n",
              "<table border=\"1\" class=\"dataframe\">\n",
              "  <thead>\n",
              "    <tr style=\"text-align: right;\">\n",
              "      <th></th>\n",
              "      <th>PassengerId</th>\n",
              "      <th>Survived</th>\n",
              "      <th>Pclass</th>\n",
              "      <th>Sex</th>\n",
              "      <th>Age</th>\n",
              "      <th>SibSp</th>\n",
              "      <th>Parch</th>\n",
              "      <th>Fare</th>\n",
              "      <th>Cabin_A</th>\n",
              "      <th>Cabin_B</th>\n",
              "      <th>Cabin_C</th>\n",
              "      <th>Cabin_D</th>\n",
              "      <th>Cabin_E</th>\n",
              "      <th>Cabin_F</th>\n",
              "      <th>Cabin_G</th>\n",
              "      <th>Cabin_T</th>\n",
              "      <th>Cabin_n</th>\n",
              "      <th>Embarked_C</th>\n",
              "      <th>Embarked_Q</th>\n",
              "      <th>Embarked_S</th>\n",
              "    </tr>\n",
              "  </thead>\n",
              "  <tbody>\n",
              "    <tr>\n",
              "      <th>0</th>\n",
              "      <td>1</td>\n",
              "      <td>0</td>\n",
              "      <td>3</td>\n",
              "      <td>0</td>\n",
              "      <td>0.271174</td>\n",
              "      <td>1</td>\n",
              "      <td>0</td>\n",
              "      <td>0.014151</td>\n",
              "      <td>0</td>\n",
              "      <td>0</td>\n",
              "      <td>0</td>\n",
              "      <td>0</td>\n",
              "      <td>0</td>\n",
              "      <td>0</td>\n",
              "      <td>0</td>\n",
              "      <td>0</td>\n",
              "      <td>1</td>\n",
              "      <td>0</td>\n",
              "      <td>0</td>\n",
              "      <td>1</td>\n",
              "    </tr>\n",
              "    <tr>\n",
              "      <th>1</th>\n",
              "      <td>2</td>\n",
              "      <td>1</td>\n",
              "      <td>1</td>\n",
              "      <td>1</td>\n",
              "      <td>0.472229</td>\n",
              "      <td>1</td>\n",
              "      <td>0</td>\n",
              "      <td>0.139136</td>\n",
              "      <td>0</td>\n",
              "      <td>0</td>\n",
              "      <td>1</td>\n",
              "      <td>0</td>\n",
              "      <td>0</td>\n",
              "      <td>0</td>\n",
              "      <td>0</td>\n",
              "      <td>0</td>\n",
              "      <td>0</td>\n",
              "      <td>1</td>\n",
              "      <td>0</td>\n",
              "      <td>0</td>\n",
              "    </tr>\n",
              "    <tr>\n",
              "      <th>2</th>\n",
              "      <td>3</td>\n",
              "      <td>1</td>\n",
              "      <td>3</td>\n",
              "      <td>1</td>\n",
              "      <td>0.321438</td>\n",
              "      <td>0</td>\n",
              "      <td>0</td>\n",
              "      <td>0.015469</td>\n",
              "      <td>0</td>\n",
              "      <td>0</td>\n",
              "      <td>0</td>\n",
              "      <td>0</td>\n",
              "      <td>0</td>\n",
              "      <td>0</td>\n",
              "      <td>0</td>\n",
              "      <td>0</td>\n",
              "      <td>1</td>\n",
              "      <td>0</td>\n",
              "      <td>0</td>\n",
              "      <td>1</td>\n",
              "    </tr>\n",
              "    <tr>\n",
              "      <th>3</th>\n",
              "      <td>4</td>\n",
              "      <td>1</td>\n",
              "      <td>1</td>\n",
              "      <td>1</td>\n",
              "      <td>0.434531</td>\n",
              "      <td>1</td>\n",
              "      <td>0</td>\n",
              "      <td>0.103644</td>\n",
              "      <td>0</td>\n",
              "      <td>0</td>\n",
              "      <td>1</td>\n",
              "      <td>0</td>\n",
              "      <td>0</td>\n",
              "      <td>0</td>\n",
              "      <td>0</td>\n",
              "      <td>0</td>\n",
              "      <td>0</td>\n",
              "      <td>0</td>\n",
              "      <td>0</td>\n",
              "      <td>1</td>\n",
              "    </tr>\n",
              "    <tr>\n",
              "      <th>4</th>\n",
              "      <td>5</td>\n",
              "      <td>0</td>\n",
              "      <td>3</td>\n",
              "      <td>0</td>\n",
              "      <td>0.434531</td>\n",
              "      <td>0</td>\n",
              "      <td>0</td>\n",
              "      <td>0.015713</td>\n",
              "      <td>0</td>\n",
              "      <td>0</td>\n",
              "      <td>0</td>\n",
              "      <td>0</td>\n",
              "      <td>0</td>\n",
              "      <td>0</td>\n",
              "      <td>0</td>\n",
              "      <td>0</td>\n",
              "      <td>1</td>\n",
              "      <td>0</td>\n",
              "      <td>0</td>\n",
              "      <td>1</td>\n",
              "    </tr>\n",
              "    <tr>\n",
              "      <th>...</th>\n",
              "      <td>...</td>\n",
              "      <td>...</td>\n",
              "      <td>...</td>\n",
              "      <td>...</td>\n",
              "      <td>...</td>\n",
              "      <td>...</td>\n",
              "      <td>...</td>\n",
              "      <td>...</td>\n",
              "      <td>...</td>\n",
              "      <td>...</td>\n",
              "      <td>...</td>\n",
              "      <td>...</td>\n",
              "      <td>...</td>\n",
              "      <td>...</td>\n",
              "      <td>...</td>\n",
              "      <td>...</td>\n",
              "      <td>...</td>\n",
              "      <td>...</td>\n",
              "      <td>...</td>\n",
              "      <td>...</td>\n",
              "    </tr>\n",
              "    <tr>\n",
              "      <th>886</th>\n",
              "      <td>887</td>\n",
              "      <td>0</td>\n",
              "      <td>2</td>\n",
              "      <td>0</td>\n",
              "      <td>0.334004</td>\n",
              "      <td>0</td>\n",
              "      <td>0</td>\n",
              "      <td>0.025374</td>\n",
              "      <td>0</td>\n",
              "      <td>0</td>\n",
              "      <td>0</td>\n",
              "      <td>0</td>\n",
              "      <td>0</td>\n",
              "      <td>0</td>\n",
              "      <td>0</td>\n",
              "      <td>0</td>\n",
              "      <td>1</td>\n",
              "      <td>0</td>\n",
              "      <td>0</td>\n",
              "      <td>1</td>\n",
              "    </tr>\n",
              "    <tr>\n",
              "      <th>887</th>\n",
              "      <td>888</td>\n",
              "      <td>1</td>\n",
              "      <td>1</td>\n",
              "      <td>1</td>\n",
              "      <td>0.233476</td>\n",
              "      <td>0</td>\n",
              "      <td>0</td>\n",
              "      <td>0.058556</td>\n",
              "      <td>0</td>\n",
              "      <td>1</td>\n",
              "      <td>0</td>\n",
              "      <td>0</td>\n",
              "      <td>0</td>\n",
              "      <td>0</td>\n",
              "      <td>0</td>\n",
              "      <td>0</td>\n",
              "      <td>0</td>\n",
              "      <td>0</td>\n",
              "      <td>0</td>\n",
              "      <td>1</td>\n",
              "    </tr>\n",
              "    <tr>\n",
              "      <th>888</th>\n",
              "      <td>889</td>\n",
              "      <td>0</td>\n",
              "      <td>3</td>\n",
              "      <td>1</td>\n",
              "      <td>NaN</td>\n",
              "      <td>1</td>\n",
              "      <td>2</td>\n",
              "      <td>0.045771</td>\n",
              "      <td>0</td>\n",
              "      <td>0</td>\n",
              "      <td>0</td>\n",
              "      <td>0</td>\n",
              "      <td>0</td>\n",
              "      <td>0</td>\n",
              "      <td>0</td>\n",
              "      <td>0</td>\n",
              "      <td>1</td>\n",
              "      <td>0</td>\n",
              "      <td>0</td>\n",
              "      <td>1</td>\n",
              "    </tr>\n",
              "    <tr>\n",
              "      <th>889</th>\n",
              "      <td>890</td>\n",
              "      <td>1</td>\n",
              "      <td>1</td>\n",
              "      <td>0</td>\n",
              "      <td>0.321438</td>\n",
              "      <td>0</td>\n",
              "      <td>0</td>\n",
              "      <td>0.058556</td>\n",
              "      <td>0</td>\n",
              "      <td>0</td>\n",
              "      <td>1</td>\n",
              "      <td>0</td>\n",
              "      <td>0</td>\n",
              "      <td>0</td>\n",
              "      <td>0</td>\n",
              "      <td>0</td>\n",
              "      <td>0</td>\n",
              "      <td>1</td>\n",
              "      <td>0</td>\n",
              "      <td>0</td>\n",
              "    </tr>\n",
              "    <tr>\n",
              "      <th>890</th>\n",
              "      <td>891</td>\n",
              "      <td>0</td>\n",
              "      <td>3</td>\n",
              "      <td>0</td>\n",
              "      <td>0.396833</td>\n",
              "      <td>0</td>\n",
              "      <td>0</td>\n",
              "      <td>0.015127</td>\n",
              "      <td>0</td>\n",
              "      <td>0</td>\n",
              "      <td>0</td>\n",
              "      <td>0</td>\n",
              "      <td>0</td>\n",
              "      <td>0</td>\n",
              "      <td>0</td>\n",
              "      <td>0</td>\n",
              "      <td>1</td>\n",
              "      <td>0</td>\n",
              "      <td>1</td>\n",
              "      <td>0</td>\n",
              "    </tr>\n",
              "  </tbody>\n",
              "</table>\n",
              "<p>891 rows × 20 columns</p>\n",
              "</div>"
            ],
            "text/plain": [
              "     PassengerId  Survived  Pclass  ...  Embarked_C  Embarked_Q  Embarked_S\n",
              "0              1         0       3  ...           0           0           1\n",
              "1              2         1       1  ...           1           0           0\n",
              "2              3         1       3  ...           0           0           1\n",
              "3              4         1       1  ...           0           0           1\n",
              "4              5         0       3  ...           0           0           1\n",
              "..           ...       ...     ...  ...         ...         ...         ...\n",
              "886          887         0       2  ...           0           0           1\n",
              "887          888         1       1  ...           0           0           1\n",
              "888          889         0       3  ...           0           0           1\n",
              "889          890         1       1  ...           1           0           0\n",
              "890          891         0       3  ...           0           1           0\n",
              "\n",
              "[891 rows x 20 columns]"
            ]
          },
          "metadata": {
            "tags": []
          },
          "execution_count": 30
        }
      ]
    },
    {
      "cell_type": "code",
      "metadata": {
        "id": "mGUEtLV8kYyR"
      },
      "source": [
        "df_train = df_train.drop(columns='Cabin_T')"
      ],
      "execution_count": null,
      "outputs": []
    },
    {
      "cell_type": "code",
      "metadata": {
        "id": "hc118JmVi2lI"
      },
      "source": [
        "df_test = pd.get_dummies(df_test)"
      ],
      "execution_count": null,
      "outputs": []
    },
    {
      "cell_type": "code",
      "metadata": {
        "id": "Xsq1kf8hQYCM"
      },
      "source": [
        "import xgboost as xgb\n",
        "model = xgb.XGBClassifier()"
      ],
      "execution_count": null,
      "outputs": []
    },
    {
      "cell_type": "code",
      "metadata": {
        "id": "0Xm5EJ-yQ74J"
      },
      "source": [
        "X = df_train.iloc[:,2:]\n",
        "y = df_train.iloc[:,1]"
      ],
      "execution_count": null,
      "outputs": []
    },
    {
      "cell_type": "code",
      "metadata": {
        "colab": {
          "base_uri": "https://localhost:8080/"
        },
        "id": "mKMKe4XFnv96",
        "outputId": "fd8a8460-3a07-487b-fb71-669d4d650bcc"
      },
      "source": [
        "model.fit(X,y)\n"
      ],
      "execution_count": null,
      "outputs": [
        {
          "output_type": "execute_result",
          "data": {
            "text/plain": [
              "XGBClassifier(base_score=0.5, booster='gbtree', colsample_bylevel=1,\n",
              "              colsample_bynode=1, colsample_bytree=1, gamma=0,\n",
              "              learning_rate=0.1, max_delta_step=0, max_depth=3,\n",
              "              min_child_weight=1, missing=None, n_estimators=100, n_jobs=1,\n",
              "              nthread=None, objective='binary:logistic', random_state=0,\n",
              "              reg_alpha=0, reg_lambda=1, scale_pos_weight=1, seed=None,\n",
              "              silent=None, subsample=1, verbosity=1)"
            ]
          },
          "metadata": {
            "tags": []
          },
          "execution_count": 35
        }
      ]
    },
    {
      "cell_type": "code",
      "metadata": {
        "id": "i1R-W79hpflo"
      },
      "source": [
        "y_pred = model.predict(df_test.drop(columns=['PassengerId']))"
      ],
      "execution_count": null,
      "outputs": []
    },
    {
      "cell_type": "code",
      "metadata": {
        "colab": {
          "base_uri": "https://localhost:8080/"
        },
        "id": "ZiGkT81sksx2",
        "outputId": "7ab33ae4-43eb-484a-c03e-b93ea06b5b2d"
      },
      "source": [
        "y_pred"
      ],
      "execution_count": null,
      "outputs": [
        {
          "output_type": "execute_result",
          "data": {
            "text/plain": [
              "array([0, 0, 0, 0, 0, 0, 1, 0, 1, 0, 0, 0, 1, 0, 1, 1, 0, 0, 1, 0, 0, 0,\n",
              "       1, 0, 1, 0, 1, 0, 0, 0, 0, 0, 1, 0, 1, 0, 0, 0, 0, 0, 0, 0, 0, 1,\n",
              "       1, 0, 0, 0, 1, 0, 0, 0, 1, 1, 0, 0, 0, 0, 0, 1, 0, 0, 0, 1, 1, 1,\n",
              "       1, 0, 1, 1, 1, 0, 1, 1, 1, 1, 0, 1, 0, 1, 1, 0, 0, 0, 0, 0, 1, 0,\n",
              "       1, 1, 0, 0, 1, 0, 0, 0, 1, 0, 1, 0, 1, 0, 0, 0, 1, 0, 0, 0, 0, 0,\n",
              "       0, 1, 1, 1, 1, 0, 0, 1, 0, 1, 1, 0, 1, 0, 0, 0, 0, 1, 0, 0, 0, 0,\n",
              "       0, 0, 0, 0, 0, 0, 0, 0, 0, 1, 0, 0, 0, 0, 0, 0, 0, 0, 1, 0, 0, 0,\n",
              "       0, 0, 1, 1, 0, 0, 1, 1, 1, 0, 0, 0, 0, 0, 1, 0, 0, 0, 0, 0, 0, 1,\n",
              "       1, 0, 1, 1, 0, 1, 1, 0, 1, 0, 1, 0, 0, 0, 0, 0, 0, 0, 1, 0, 1, 1,\n",
              "       0, 0, 1, 1, 0, 1, 0, 0, 0, 0, 1, 0, 0, 0, 0, 1, 0, 0, 1, 0, 1, 0,\n",
              "       1, 0, 1, 0, 1, 1, 0, 1, 0, 0, 0, 1, 0, 0, 0, 0, 0, 0, 1, 1, 1, 1,\n",
              "       0, 0, 0, 0, 1, 0, 1, 1, 1, 0, 0, 0, 0, 0, 0, 0, 1, 0, 0, 0, 1, 1,\n",
              "       0, 0, 0, 0, 0, 0, 0, 0, 1, 1, 0, 1, 0, 0, 0, 0, 0, 1, 1, 1, 1, 0,\n",
              "       0, 0, 0, 0, 0, 1, 0, 0, 0, 0, 1, 0, 0, 0, 0, 0, 0, 0, 1, 1, 0, 1,\n",
              "       0, 0, 0, 0, 0, 0, 1, 1, 0, 0, 0, 0, 0, 0, 0, 0, 1, 0, 1, 0, 0, 0,\n",
              "       1, 0, 0, 1, 0, 0, 0, 0, 0, 0, 0, 0, 0, 1, 0, 1, 0, 0, 0, 1, 1, 0,\n",
              "       0, 0, 1, 0, 1, 0, 0, 0, 0, 1, 1, 0, 1, 0, 0, 0, 1, 0, 0, 1, 0, 0,\n",
              "       1, 1, 0, 0, 0, 0, 0, 0, 0, 0, 0, 1, 0, 0, 0, 0, 0, 1, 0, 0, 0, 1,\n",
              "       0, 1, 0, 0, 1, 0, 1, 0, 0, 0, 0, 0, 1, 1, 1, 1, 1, 0, 1, 0, 0, 0])"
            ]
          },
          "metadata": {
            "tags": []
          },
          "execution_count": 37
        }
      ]
    },
    {
      "cell_type": "code",
      "metadata": {
        "id": "rfgwHndZk0PN"
      },
      "source": [
        "df_subm = pd.DataFrame(columns = ['PassengerID', 'Survived'])\n",
        "df_subm['Survived'] = y_pred"
      ],
      "execution_count": null,
      "outputs": []
    },
    {
      "cell_type": "code",
      "metadata": {
        "id": "Dv5kDJNHlOjB"
      },
      "source": [
        "df_subm['PassengerID'] = df_test['PassengerId']"
      ],
      "execution_count": null,
      "outputs": []
    },
    {
      "cell_type": "code",
      "metadata": {
        "colab": {
          "base_uri": "https://localhost:8080/",
          "height": 417
        },
        "id": "EFkP6MSEnSjp",
        "outputId": "cf2e823d-eaae-470c-e2af-9194a92031a5"
      },
      "source": [
        "df_subm"
      ],
      "execution_count": null,
      "outputs": [
        {
          "output_type": "execute_result",
          "data": {
            "text/html": [
              "<div>\n",
              "<style scoped>\n",
              "    .dataframe tbody tr th:only-of-type {\n",
              "        vertical-align: middle;\n",
              "    }\n",
              "\n",
              "    .dataframe tbody tr th {\n",
              "        vertical-align: top;\n",
              "    }\n",
              "\n",
              "    .dataframe thead th {\n",
              "        text-align: right;\n",
              "    }\n",
              "</style>\n",
              "<table border=\"1\" class=\"dataframe\">\n",
              "  <thead>\n",
              "    <tr style=\"text-align: right;\">\n",
              "      <th></th>\n",
              "      <th>PassengerID</th>\n",
              "      <th>Survived</th>\n",
              "    </tr>\n",
              "  </thead>\n",
              "  <tbody>\n",
              "    <tr>\n",
              "      <th>0</th>\n",
              "      <td>892</td>\n",
              "      <td>0</td>\n",
              "    </tr>\n",
              "    <tr>\n",
              "      <th>1</th>\n",
              "      <td>893</td>\n",
              "      <td>0</td>\n",
              "    </tr>\n",
              "    <tr>\n",
              "      <th>2</th>\n",
              "      <td>894</td>\n",
              "      <td>0</td>\n",
              "    </tr>\n",
              "    <tr>\n",
              "      <th>3</th>\n",
              "      <td>895</td>\n",
              "      <td>0</td>\n",
              "    </tr>\n",
              "    <tr>\n",
              "      <th>4</th>\n",
              "      <td>896</td>\n",
              "      <td>0</td>\n",
              "    </tr>\n",
              "    <tr>\n",
              "      <th>...</th>\n",
              "      <td>...</td>\n",
              "      <td>...</td>\n",
              "    </tr>\n",
              "    <tr>\n",
              "      <th>413</th>\n",
              "      <td>1305</td>\n",
              "      <td>0</td>\n",
              "    </tr>\n",
              "    <tr>\n",
              "      <th>414</th>\n",
              "      <td>1306</td>\n",
              "      <td>1</td>\n",
              "    </tr>\n",
              "    <tr>\n",
              "      <th>415</th>\n",
              "      <td>1307</td>\n",
              "      <td>0</td>\n",
              "    </tr>\n",
              "    <tr>\n",
              "      <th>416</th>\n",
              "      <td>1308</td>\n",
              "      <td>0</td>\n",
              "    </tr>\n",
              "    <tr>\n",
              "      <th>417</th>\n",
              "      <td>1309</td>\n",
              "      <td>0</td>\n",
              "    </tr>\n",
              "  </tbody>\n",
              "</table>\n",
              "<p>418 rows × 2 columns</p>\n",
              "</div>"
            ],
            "text/plain": [
              "     PassengerID  Survived\n",
              "0            892         0\n",
              "1            893         0\n",
              "2            894         0\n",
              "3            895         0\n",
              "4            896         0\n",
              "..           ...       ...\n",
              "413         1305         0\n",
              "414         1306         1\n",
              "415         1307         0\n",
              "416         1308         0\n",
              "417         1309         0\n",
              "\n",
              "[418 rows x 2 columns]"
            ]
          },
          "metadata": {
            "tags": []
          },
          "execution_count": 40
        }
      ]
    },
    {
      "cell_type": "code",
      "metadata": {
        "id": "MjC4KYt_lxRQ"
      },
      "source": [
        "df_subm.to_csv('Submission.csv', index = False)"
      ],
      "execution_count": null,
      "outputs": []
    },
    {
      "cell_type": "markdown",
      "metadata": {
        "id": "drBOM-gSSyly"
      },
      "source": [
        "Kaggle Score: 0.77990"
      ]
    },
    {
      "cell_type": "markdown",
      "metadata": {
        "id": "FbZIXPwUSuDp"
      },
      "source": [
        "![image.png](data:image/png;base64,iVBORw0KGgoAAAANSUhEUgAABJwAAAC8CAYAAAA9zbT5AAAgAElEQVR4Ae3dz28bR4L2cf8ZvuY4xznmmuMgpxwH8MnYwyLAXDKn5AU2B7/BIKN3EMOTDRrjBC/CWB4lUax9OYo8tChItmTG0ooybY4pmDEV2uCKDp3QIaQodCg8L6q7q9ndbEqUTEm29B3AK/6orq76dEmLflJVfUr8DwEEEEAAAQQQQAABBBBAAAEEEEAAgSEKnBpiXVSFAAIIIIAAAggggAACCCCAAAIIIICACJwYBAgggAACCCCAAAIIIIAAAggggAACQxUgcBoqJ5UhgAACCCCAAAIIIIAAAggggAACCBA4MQYQQAABBBBAAAEEEEAAAQQQQAABBIYqQOA0VE4qQwABBBBAAAEEEEAAAQQQQAABBBAgcGIMIIAAAggggAACCCCAAAIIIIAAAggMVYDAaaicVIYAAggggAACCCCAAAIIIIAAAgggQODEGEAAAQQQQAABBBBAAAEEEEAAAQQQGKoAgdNQOakMAQQQQAABBBBAAAEEEEAAAQQQQIDAiTGAAAIIIIAAAggggAACCCCAAAIIIDBUAQKnoXJSGQIIIIAAAggggAACCCCAAAIIIIAAgRNjAAEEEEAAAQQQQAABBBBAAAEEEEBgqAIETkPlpDIEEEAAAQQQQAABBBBAAAEEEEAAAQInxgACCCCAAAIIIIAAAggggAACCCCAwFAFCJyGykllCCCAAAIIIIAAAggggAACCCCAAAIETowBBBBAAAEEEEAAAQQQQAABBBBAAIGhChA4DZWTyhBAAAEEEEAAAQQQQAABBBBAAAEECJwYAwgggAACCCCAAAIIIIAAAggggAACQxUgcBoqJ5UhgAACCCCAAAIIIIAAAggggAACCBA4MQYQQAABBBBAAAEEEEAAAQQQQAABBIYqQOA0VE4qQwABBBBAAAEEEEAAAQQQQAABBBAgcGIMIIAAAggggAACCCCAAAIIIIAAAggMVYDAaaicVIYAAggggAACCCCAAAIIIIAAAgggQODEGEAAAQQQQAABBBBAAAEEEEAAAQQQGKoAgdNQOakMAQQQQAABBBBAAAEEEEAAAQQQQIDAiTGAAAIIIIAAAggggAACCCCAAAIIIDBUAQKnoXJSGQIIIIAAAggggAACCCCAAAIIIIAAgRNjAAEEEEAAAQQQQAABBBBAAAEEEEBgqAIETkPlpDIEEEAAAQQQQAABBBBAAAEEEEAAAQInxgACCCCAAAIIIIAAAggggAACCCCAwFAFCJyGykllCCCAAAIIIIAAAggggAACCCCAAAIETowBBBBAAAEEEEAAAQQQQAABBBBAAIGhChA4DZWTyhBAAAEEEEAAAQQQQAABBBBAAAEECJwYAwgggAACCCCAAAIIIIAAAggggAACQxUgcBoqJ5UhgAACCCCAAAIIIIAAAggggAACCBA4MQYQQAABBBBAAAEEEEAAAQQQQAABBIYqQOA0VE4qQwABBBBAAAEEEEAAAQQQQAABBBAgcGIMIIAAAggggAACCCCAAAIIIIAAAggMVYDAaaicVIYAAggggAACCCCAAAIIIIAAAgggQODEGEAAAQQQQAABBBBAAAEEEEAAAQQQGKoAgdNQOakMAQQQQAABBBBAAAEEEEAAAQQQQIDAiTGAAAIIIIAAAggggAACCCCAAAIIIDBUgSMMnDpqt9vev2dD7dOBVdb+vqrqD+2h199p1VSttdQZes1UeJgCB3Idn7VUe1hT6yX5HTlMb86FAAIIIIAAAggggAACL75A62FRhfsNDftOumPzhDZ30i/qKDiCwKmt+u2sxlKOHKf7b/RaQfWt/TDVlTf1LNf3c/Dgx3RqyrntzWu4Z2qp9LVxyKi8MXhzXq6Sg12j+nJ3PETGxpU55cvD/wM1XMPnvY5eANvZjraqtTrl/p5kypvRL3iHAAIIIIAAAggggAACCMQE+t1Tpb6YUq7c3F/os1FWZtB77sf56P3LVkVz7n30qArfxxq7r7cdNcs5TV2O3jumvsiqsD7sSGtfDeSgkMAhB04d1Zcn5KTSyq3W1fITydbjknLplJxUTrU9z+QYLMwI9XnfL9vrJZUOYBB3mhWV1prHeIbTYNfI++M4p2Ktplrwr6LSNxmNOo5SVwtq7Hl87Pty7/nA57qO/h/x/OPYaZ81VVmtqPkC9zvWYt4igAACCCCAAAIIIIDAEQl491Tjyt4qqHDb//fNnCb8gGZiub73+87nCZzUUXOtqMJqfX9hV8yxcWfCDbRMwJRbrahWq6p8e05pd0LLhPKPme0UIzvSt4cbOPkDdW4tIXn0k8+9z+QYLMw4UuUTf/LBrpH3x7HPDLJWWdmUo9Q3tb3/gXwZ/PsFTi9D22kjAggggAACCCCAAAIIvBAC3j1VwuqZZ3UtfmlmBU2p9NMem/pcgdMez7VT8XZV82a21JeLqsf/g/xPJU2Z766VxdqQnRAP97vDDZz86XU9szj8PrtrMO3A2awqN5lWsWfaXUPFybRy39lh1A0zOs2yclfHlHIcjZplWPFZQ0Gd/jS8L1JyLk9o7raftm7VVZhNu8v9Rq9klFtrha7Gpqo300rfbYQ+kzZrRc1fm/Bm4HyR7tYVKtX+oaK8X685X+abcmTGSuNuWumb1Z5fjN66a9qMLLkKtalVUc5vh9v28mAzpnradqOomqV1+7DHc5gZOct+gp4a05Tb1+41CrH0vNwxcJLUXptL/AMZdjJ9n78bd5K0vana3XllrozKcVIaS88lT7lse+1Pm7GRGlN6Nq9KeN+uYAy11bjr99P/oxa/jsH7Z02Vv5lyx1XKjJHlqlqh6+iWS9txm1Y6PL6/Lyo9mVM1ck2Sxl28z3u8bj1Xgw8QQAABBBBAAAEEEEDgZRPoGzhJapXS7uyg+e+8CSDufUjSvcZ3ueg9SThwMvedsXvuyHSS+JI6+fclk0VF7qQT7s/M/Xukrji+bcdCNWESQltNd5VMrI7w/Z0zqolr8ypGb3i9swxSzr03M1lEy1vWZ+4ZwwFXvI7ZvMrf79ijeA+P3fvDDZxMIplyNP5NNRacJLj2nfHhhRfdmVB+mHEtq+zltObu+tPqlr1lWJEpg36dczfmlZ4tqlKrqXLblito8cqUFstV1WoVFa55wcRizU7J21T5WnSvqM0HWaWcUWVum3PWVFsrKHM5Ogun831eE05K6ZslVU2Zh/7ywa9LsnGW+0chPFDNH4OyX/dy2T2uWs67dTtX8qE012/T7Lzmv8go77e9OGumGaZk/5Ak6Lofee13NDFbUPmhaVtZi1dN0DKvarCf1h7O8ayu/BVHzuVQW+bSGp3JDrTmd7fASf4+WtkH3fSln1Nqphz4SpuqzJhwMaPCmrdcz7vuKeUe2esrqU/7U05oaqY/hjLXMhr9el6FckXlshdYxq+j+/6fi8rPjCkTu46pdEEN/9TtZk21B4tKO47m/uW1r7Hhf+n+wY7+F4p+fR7m2Og3ZvgcAQQQQAABBBBAAAEEXlwB754qev9gW9u6n4nsr9Sv7GY5Wk5B0LOoxS9TGrs6r8V+y/QSAif3PtoJrWQx911mSx1/okhuaV5TJrxxHEXu323D7U87wymVVSk8KcB+H//ZqmjOXUoYb3NK2bK9Gzc336Fy2ZwKpj3+cemV0BJEv2/paxmNu5MY0krfqHgTR4I6RjV1YzFSR+Rc8TYe8/eHGziZa/ndvCbMVLfLU5q/XVb1SUvxjZJdc39Q986G6hM4JUwN9G7MJ1T8wb+Kfp2pG9VIctr8l0l6Y+GDmipOhgMmP3gJNidvqfxPR85SbAvxJ2UtrnZnm9SXHDn/DIcfkrZqKt6uqOmHnfGgQv50wMz90C+B6cJmxQ3sJu7YbNhvk9lwPFK05YVjsRArOpbbaj7Ia/526BfIFHjmTVPshjqDn8Pd4DqVjbXFJOnexte7bezu/cEL/SGKNtiMHs/cXgPXKfbHwhzT8ja1C5Zu+u8X16MVNsqLKgXpdke1W6mE6Zkd1b4xnxe8RN6OoUig5dUbv45efxz1XEd/eeDUauii9Rvv8cDpUMZG1Il3CCCAAAIIIIAAAggg8HIIePcgSYGTva8bV+GJ15d+ZfsGTs64FmuhGTvP/AkHTuiee4DAye7DNHWnEZqp1FLZTBJwuu1LEm89mHNXF7lh1dfzWlytqNFqh+qxR7VVvWHqS2k+vKVP0OZ5Vd2u2HKxvm23VDITTpyJwEt+35yee15bR2iigmlGUMecKsGEDtu+k/Hz0AMnl3WrocrtborpOKPe0qvQ2LUp6sCBUyxE8i5fXfmUo3TJv7H3b+ojs1pMjuMmuL2/lNEAwf8FtWGHO2vGrBEtRZZHxYdNY8ULMcK/l/Ey0fP4Ux1TycFL4854N/yQ36aEvnvpdXId8fNH3/cJ2nY9R0ulSUepwCdUq02ik74LFfP+4O3U5ug1cKeETnZninWrMiGRI8e2ebOirOMoEw54uoW9V/7sqe7MuVCBTltt+6jNPmPIlI5fR68/OQWT5EJV1pdTcsJt9+vtGe+xwMnt85GNjVAHeIkAAggggAACCCCAAAIvnIB3D5JxZwC13Yd0bar5uCJvFUx0jyNbNv609L6BU/j+xe+5t+1J6J5718CpoYLZSyq12HOf1NlouCuHgtUefXTbP1VVmPW2tQmebn7ZewpfsH7F3oOGVhbZ6twVJrWamiYE2qFcp7bobteTWvEnfPh9Gw8mgFgEf2+phP2GO49ykWWMtg0n5efRBE4h3c5WUzW7XCyVVWXD/7LfDbiSZzj1XHS3mmhA0S/E2l/gJHUe573d8M1eRTcWVVprqGX3oLJ9DE2tm5jNqVg2Azv4NXBLJQYV/WYnrS/KcbKquKvKYv2z5wxCtJ3CG6+w+aWulovulL/MZDp4ekF3NtKg54hfl1Bj5IVR3TrD33Vfe3/wdmpztB63vNlnadLb9yj8030KQ2DYUX0l7f2x+GJK80slVeIz6/qOt2773Fc7lEu8jvHZbX513pgL9bVfvbHAKX6OSOuGPDYidfMGAQQQQAABBBBAAAEEXngB757KzMzp/Td6rahGaJKHV7Z34kXfwClpAsFPJXdrkOBeb7fAyZ8MENn7aL+q2x1tNmvqPqUu1Z1k8H3evf8L2tXvHH57E8v592hBW3v65ldqz3V5ovfe1N1D2FHixIZ+bTpGnx954BRY+rvmB+lhvxvwPoFTMIspqNC88MMSu+ytT537DZzcU201VV1d1Pw1b7NxM1srczc8NVBSZ1P1clG5WRvomD2dqsEeQ/EQIf4+0qVIADFoGBSpwX/TDWHMBuu52wUVy1XVmw1v6mDwx2TQcxxC4OSnz3a5n+v0ZVaL9nGf8Z+xR2+2m1WVluaV8TfoNns6FZ/44V+fsdEjt0O5+HWLvw/XdSCB09DGRrilvEYAAQQQQAABBBBAAIGXRcC9B3HSWnzg7Q3r7jVca6hlV2yEOuKVfc7Ayd++JAhsekIZ/37S7uHk308FIU6oPc/1sl1VLmVCNn+Fid+OoF39Kt+pXLytPX3zK7V1mD1+4/ek/vvS41DS168tx/DzQw2cvKlrsV3jA9SOqguhKX7+xY3vu6M+gZOTMH1N8qbr7RZiPVfgFLTfvGir+S+zwVp6x0dNbn6X07jjBBtWx4OJ6LK5yAnkLZVblLdz1KBhULQO951dZhbfJyq+T5IN7YIAqltXNDRpuMsXE2ea+cvVdvtl9/7ghWb9dE/lvvL63l3/6jolTOuMHZb8tt1U0azJtcf7YdZuG633myVnThK/jl5/7LWKNqPnGvcLstw/Xt3/J9BzXKjaoY2NUJ28RAABBBBAAAEEEEAAgZdHwLsH6d4/7NTyoGxoa1lT3ruvCM3KiQcvoUrtkrHgnrsnlIkFTqpr0cy+snvkhurSdkfuMsDogqCgRPtxyQ10ksMbex6/7zYIm61E9m92K3O3TGl7e0nbcnY7luBskp4U3Pv2YN/mnr75hW0ddqJLuI4T/vpQAycvoJhKDmOe1dxEshtYeANx/LbdINu7Up31Rfeid6ekeTNrok9WC5dNKXjSXJ+b+n0FTp1N1VYXVfY3XAvGkT+l0NuLp61Gudj72MXYfkHxoMIb2ONaXI//prVU+tpR6lbN3xTtOQKnPhY2UOmGQ4Oeo9+m21L7u/mBpjN6f/CSA6f2unnan6OJldDsMfcPQGgTt+AitFUvlVTxd2XvbNRUWipHH8Np/pC6jwW152urMusFnrG/t2rdn1P6qv8Yz35ufQOn+Gb03tPwFr90FBnbfr3x/cW8jelC/w/D7fMBj43AkRcIIIAAAggggAACCCDwMgkEIZLdqmaHxrv/MdtxNGX3PDZln9mNwBMCp54HdfkPq3JC99w9oYwNgux9l3/f2PPQro7qS+PuJt89+9r6fQj2VEp4gJNaJe/J6MF+t969s9O3zfYeq1+5bnuCPKGnbxbXr6NnM3Gp9SCv3O2iqj/F7+3tscf756EGTuo0lL9iNgib0qLZy2jTbMbcUmOtqDn389AeTrIDcVSZ2xV387DK3Tml/zmlKbMBdNndxMjc5ivvOErPZJVOL6rS3HRT0VYtr6mUo9SM/5hCcx37hAX7CpzM7CnT5ivdc7ZbNeWvmk3C86q748nfrT6VVfFxy0trNxsqL0zIMU+W8/8I9AROssdNKV/zj2vVVZwdVXRH/EHDoKRB7M/+mimq3jLXoa3NJ2XNpyc0YTZxC2Y07eEcGxVljfnVvGpunZtqri0qnc4qG3niX1J7/BlCzpyKte70T7O/VC475gZWo7OVYBmiV0PI6WFTm2ZTvM2mqitTSjmhJwQ8KXhh1a2KP+basuNjfDn0lD5bbqHkm2yqUfaeqhj8Ee4zhkx74tfRfT+ZVTY9pbxtnx0j4f3K3M741+NqXhW7gZ353P2j1h0rZhad+7SF1EGODU+X/4sAAggggAACCCCAAAIvl8BeAicz0cF9gryTUnpu0d3Xd+ryuDLXzFPcQ/fc/j2Qcy2jTGpKudWKag/Lyl8bdctF7rl7Qpl44OQ9VdzcN7rb0SyXVa1VVJzz9tx1Ejb57l4B+yQ7R6kvsu62MGYJ2+KNKf/JdSnZ7VfMMWbPZbd/qbTm7sbaHFoh1S1ncoqqaqH2pMLhVk/fui0L6ricUd6to6bK7YzXrit5NU5m3qTDDZzM9Wg3Vf7GDgi7kVlKY9mCgifU2+v2rKnSnBc2uI89vFZQfSu+V5B931Lru5y3ibe7QZrZJ6msZngT7z5hwf4CJ0lbdRX8XzK7Kdvo1zlVwlNknjVVvun/8vgbt5lfjuL33TWc8aDC635bdTtA/eN66h54uZsFjf7sNMvKpVPdDeXcPY2aKpulZvsJnMwvdbzOK/OqtvzkO6gz2g77zvvjaMeE/9NsCj6bV/mxDRhtafuz18nszVRY7/qaku31gjKXw3WbJyNWep4w2P6+qOwXIZPUmLJ3G91pmH3GkDlH/Dra961g43jv/Kl0bIz4Xek8KQZtDPYk6wmc3N4c+Njwm8QPBBBAAAEEEEAAAQQQeIkEvHuq8H+w3rnxkXvoVFq5tZZa7lPcEwKn5brajxZ3vufuCWUSAifTpFZFua+9wMq7l05pbK4UvX9Pavr2pmq3sxpzA6vu/Z25xy70BApSz/2dM6qp5Vr3/s4/R2K5+P1iT9+iDeytw8s56uZpeCf0f4cfOFlouz7TzErZLe0zZXcrE6930PL2uOf5+cybIdQOh1vx+vx1ou2BO+JXYJ12qjt+rj2+77iPy2z7y/T2eHCf4l6dh3kR/PW+u/gGfd3u03D/46DczsV2/NYGTjYqG9Sks0sfgpMewtgIzsULBBBAAAEEEEAAAQQQOLYCA9+DuAI777W0JyR7L72PW0d7z7bjfbjfGFu2M+h94C7lduqjPdegt3U71fWyf3d0gdPLLkf7EdhFIB447VKcrxFAAAEEEEAAAQQQQAABBBA4NgIETsfmUtKRF02AwOlFuyK0BwEEEEAAAQQQQAABBBBA4LAECJwOS5rznDiB1ncFFVbrPeuDTxwEHUYAAQQQQAABBBBAAAEEEDhxAgROJ+6S02EEEEAAAQQQQAABBBBAAAEEEEDgYAUInA7Wl9oRQAABBBBAAAEEEEAAAQQQQACBEydA4HTiLjkdRgABBBBAAAEEEEAAAQQQQAABBA5WgMDpYH2pHQEEEEAAAQQQQAABBBBAAAEEEDhxAgROJ+6S02EEEEAAAQQQQAABBBBAAAEEEEDgYAUInA7Wl9oRQAABBBBAAAEEEEAAAQQQQACBEydA4HTiLjkdRgABBBBAAAEEEEAAAQQQQAABBA5WgMDpYH2pHQEEEEAAAQQQQAABBBBAAAEEEDhxAgROJ+6S02EEEEAAAQQQQAABBBBAAAEEEEDgYAVO/frrr+IfBowBxgBjgDHAGGAMMAYYA4wBxgBjgDHAGGAMMAYYA8MaA6d+/LEp/mHAGGAMMAYYA4wBxgBjgDHAGGAMMAYYA4wBxgBjgDEwrDHAkrqDnUFG7QgggAACCCCAAAIIIIAAAggggMCJEyBwOnGXnA4jgAACCCCAAAIIIIAAAggggAACBytA4HSwvtSOAAIIIIAAAggggAACCCCAAAIInDgBAqcTd8npMAIIIIAAAggggAACCCCAAAIIIHCwAgROB+tL7QgggAACCCCAAAIIIIAAAggggMCJEyBwOnGXnA4jgAACCCCAAAIIIIAAAggggAACBytA4HSwvtSOAAIIIIAAAggggAACCCCAAAIInDgBAqcTd8npMAIIIIAAAggggAACCCCAAAIIIHCwAgROB+tL7QgggAACCCCAAAIIIIAAAggggMCJEyBwOnGXnA4jgAACCCCAAAIIIIAAAggggAACBytA4HSwvtSOAAIIIIAAAggggAACCCCAAAIInDgBAqcTd8npMAIIIIAAAggggAACCCCAAAIIIHCwAgROB+tL7QgggAACCCCAAAIIIIAAAggggMCJEyBwOnGXnA4jgAACCCCAAAIIIIAAAggggAACBytA4HSwvtSOAAIIIIAAAggggAACCCCAAAIInDgBAqcTd8npMAIIIIAAAggggAACCCCAAAIIIHCwAgROB+tL7QgggAACCCCAAAIIIIAAAggggMCJEyBwOnGXnA4jgAACCCCAAAIIIIAAAggggAACBytwdIHTdlvNpy3v38avB9vLYdX+tKpL4yuarB5Ae9uPNZle1qXixrBaSz0IIIAAAggggAACCCCAAAII7F2gvaGNDfOvvfdjD/qITttv24YGaV7b7cfgfQnKbx10R45//YcfOG0/1c3x6/rNyLROvd/998qHt3Tp25/3Jb4+fd2t61xhX4cPfFB+3G/vxXtqDnzUYAWb1xc8j5Fl5Qc7hFIIIIAAAggggAACCCCAAAIIDE+gU9fCJ+/q7Ouv63X779/e0z/uDzAxojGr9+wxfX6+N/dj0NbS5dA5EsuPqRSUNi/aevD//qx/PxM+7qze/WRB9U6koPfm8ZI+/o+z3X68/rrOvPnn/n15vNBT/uyf/qEHA3Q94ex8JOmQA6eWJj/xQptXPsxpZPq+ssuruvjZdb1iwqeR67pU297zhTmswEmNNV0cX9H4PoOxHTu2UdN4elkXV57uWIwvEUAAAQQQQAABBBBAAAEEEBi+wIaW/vOMG9Cc/dOYZv+7oKVrH+ttN+D5o8bu7zLbaaOkzPhX+irh38d/+ne33j/f6AZO9VvJZb+6fF5vmwDqzJgehDr5YOKPbh1n3j6vf9wsqFBY0D8+8D/7zyVFcqGflvSR2+6zeu/yrJYKBS3Nfap3/b58Fa7YnKOn/JIyf3tbZ0w73hrTg126HmomL0MChxs4rS7rtyZYcoqqxHKlrVs5nX5/Wqc/Xws1b7CXhxY4DdYcSiGAAAIIIIAAAggggAACCCDwcgk8+Ep/MAHLn2ZVD7W8vTqmP5rP/yMT+TxUZJeXdWX+wwRIH2npp12KmnlMKx+7Qc8fJ0Kp0E8LOm/a8IdPVYosdWur8IkJyf6gcIj0YPwPbjj13ky4J5L+J6N3TT0fLEQCquTybZUue4HWu9di9ezeDUoc+gynwpK7bOzVdK0X/5cnyi9/q2zxidzx01jVWxdm9Vr6UazsI/3VfH5hJVh61g2cflXl+i397i/eLKpXLy5pPDL170dNfuofu1HTpdFZd2nfKx8saMSdWbSt5sqyzp6fccOvVz+6pfHwfk33VvTahVm9FUplpV+1vryiNz+a8WdpzeiN0aLuPQ0nattq3r+ncxdnvKWEIzN67eKyso9De0H16+/TmsY/X9Brtk8f5fTX5W4q7OKE2hVu/28+zOnioHtCDXKe3fp6Z1m/M9fmv6qxayY1c7dcu7MzT3q+4wMEEEAAAQQQQAABBBBAAIGjFShdNsHNGX1aiE/n2dDCB2YZ29vK/M/e25gYIPWtpk84tTrmBkhvX00Ifu6PuQHVmc9tQPWjZv9k2vuxerqiH7Xwf8x3f9ZCcFtd0piZ+XTm097yNuj6X/sN2/p29ER8cTQznM7f0mQ4bEmiXi/qDTMbqmfG05rOuXs/Lemmf5wNnN78+y39dmRGv/u/t/TWRT8Aen9G5wp2b6gfdckxYdSC3vxkWr85b8KnULn0kl41YZAJTT7w92sauaXsL/6J/MDsjWk7MreVT896M7MuLOid8WWN2OWB55eU949r5nLBksG3TBkTIJk9rEaua3zddiKhv7V7OuvvdfWbv93SyOc5/c5//9r4mhfMmcNtuz5Z6LbfD81OvT+jkdVw+OWfL/wjfJ4Pc3rnM1OP1//fT9uAaIC+bq/pnNuvJd2MnLKl8Yumvlld7M2iwi3hNQIIIIAAAggggAACCCCAwKEL1DX7v00Q85GWImvTvIbUZ95zA5+PbiV8uWNb+wRIfY7pG07969PkGUumntDMLO9O3fbl09geUKawWTZo+vm6xlb9Rjz29xVVYjsAACAASURBVJ6KL8tzv7Z1Jbv4NfCjj8DhBk76WTfHvYDGbBhuQpS/Tn+re49tIBRq5T4Cp1Mf3FI2NLNoq7CkV004dX5F99yqbeA0rXCQYgIhs5zv1MiCxhs2KflZ2c+80OWdFf8zG+wEgVPVC1g+WFbeHiZ/Ns9HOV26b2Yw/ajxv5l6FjT+Q6h/qyt648KCztnZSj39tftdzeid5dAvdfuxLrqhWShI8tsV7f+2KhlvM/Wdlyna80zrzeuh/aM21nTuvNfuSffjQfq6rfyVGX8D9xDID/d01vh+eEeVEAEvEUAAAQQQQAABBBBAAAEEXgSBksbMUrPX4xt1e23buPWRF/iENv0epNXmOLMPUmR5XN8DH+irt/osvfufjLevU2y5n6nK7u1klgJ6gZNZZmf68gd9+q/YbK1gr6ZQ4OTPnnr9cnSLcr/nfkD1nmYbfRvOF30EDjlwMq34Vet37uitD71la/ZJdaf/ct1f1ua3tCeAsT3oP8PptSk7XciWDc2scbeGsoFTrjtryRS15/rsfnfWkPnYf/pdMKOpX+BkNjsPL72zp3d/2sBpRudWQsFRpEyoDXZG19NVvdknpNlauuXNqhr3pwv57frtf8WWH9p+OUXFZYLT73CeZuVbZZe/1T33t9YPnHbsq6R73j5d4ZDLPoHv7PVWcFpeIIAAAggggAACCCCAAAIIvCgCOwdO8kOZ8FPmdm/5DgFSwsE7h1PdDc3/6MzqwY8b2tioqzD+ns6eOeNt7h0ETt6sJ3ffqTPvaqxQ18bGhn58MKuP3z6jM2e8jdGDGU47Bk6S9zQ9AqeES7brR0cQOIXa9MuGKquhp9S9P613lvzZTjYssQFMcFj/wOlcISgUvKhMzfozbsxHNnDqLsdzC/Y51+6B07Yq09e92VHvT+uVD67rzc/vaHz1ibZCE3yCmVZmU/S/zOjsZyu6tLyuZjhsjbfBzlrq6X8onLJBUk8Q5nff1mnLBSqhF8Ulr/1J5wkVkwbrq/RII2Y5YjDry86gis3witTNGwQQQAABBBBAAAEEEEAAgaMT2Dlw2s8Mp50DpHhPBwinth7oH3866860Mkvi3H//dl6ZR0ve7Kxw4CSpfss+Yc8v+/oZvf1ZQQ/85YGDBU52CR6BU/yKDfL+aAOncAu/XdHvzIyeC/6yKxuW9AQhewyc/GVlXhg17MDJdGBbzep9XfxsobvvkwmWLizpZnhC0+OqLo3n9Eawt5K/hK/mJ1Px/h5W4LTTecLXx309WF8rV03IN6ORe9uSnUH1yaqaPfXxAQIIIIAAAggggAACCCCAwNEL7LxXUf3q227A8/FKeNbETq0eIEAKHb6XcGrjUUmFQkGF1Yfa6Jh5JQv6swmgPktYEtf+UQ9M2UJBDxpe2x98bmY4vafZx34DdtnDKfO/TGCVtAF5qAO8TBQ41MCpcnNZI+PLmkzcODoWJNkA5u/uWrhu47fX9I4Jpt7vzlLqmYkUlG4H+zCdK5oPDyJwCk7mvfjliSZHvX2Mepa42aLtlvJT/swoG8TY/tqAreZvIm6/t8ean6vesrVT1uZ5ZjjZ81y81xsI/bKh5tOWtvr9TenX1+odNzz87ZVHat5YcGeYvXWrXyXhjvEaAQQQQAABBBBAAAEEEEDgKAR2f0rduwM/pW4vAZI0QDi1UVfJBEePwrM6PKWNm+fdMCy8ofmPD0zI9EA/9tyGPtBXf3hdr//hK9ln2kkDPKXuP3hK3X7G5OEGTu7Ml2m9+nnoCWtuq7fVXL6l35ogyS7/sjNjRnLKBmMqvKyrN3ByN6UOLWWTDVOCJ80NOXB6dN99ctzZydjeSSu33JDltNljqWVmNt3S2dH70UDHtu1v97z9leKBkx7r4ocmWJvVxbVwp37Wzb97gdY7S/5vz14Cp6ePdXO5pmZQZZ/zbD/xn+h3XZfMBlCD9DUYgb7zBzm9ZZ5OF/gHBXiBAAIIIIAAAggggAACCCDwIgmEnvZWD7WrvTomdz+k2JI1E+qUHvckOmYDpf6bf4fqtS8HCqfaBX16xmwo/rEKW/ZISVsljbkbjX+qQqgp9WvvuiHUu1fDPZHqc39293t691r08wfjf3DLvzcT/ryt0uU/ep/vcbP0UAtP9MtDDZwUPPlsWq98mNM7496Mp7f+ZjcQn9G5oh0ldu8fE1hc11vjy3LLOdf1Rr8ZTs51nf4op4vXv9Xk9JLeGDGBzbR+P+vtVT/0GU7bjzTiPsltWm+Mr7obbGevr+is+5l9ily3H699ekeTy98qmyvqnY+8tr15w99IuydwkoK9n0Zm9c70fWWXV/XXT7yn/J3+W1EVGxoNHDjZDcynFZ59FT7P2fSq275z7pPwpnXabqQ+UF+7v0t2o3DjH95AvFuCVwgggAACCCCAAAIIIIAAAi+OQDdgOfP2eX01N6vMZ+f1tgl6Xv+jvupOCZLuj3kbdb/+kZaCCSJeT+yMo4GfTGdmHJ35SEs/7Sxhw6LX/+09fTz+lb767CO9+2+mbWf10X/HGmGDKLNv04VP9dX4V/r4/X9323zm7X+EZjf554yU/0qzcxl9euFtr49vhWdD7dxGvo0KHG7gZM79tKZLo7N6xQ2NvNDFhBKvfHhLl+7HBsnGI/3VDz7cMs6K8k9jS+9CT5M7t/JU2b97gYwpf2pkVm9N10JPnhvyDCfTn8aaRoLAzOtPzxP3NhL6HG9bQuDk7g9VXNHv/9J1Mv363eg9VWwuZ9owcODUVn7cmx0VBF3ueNhWM+k8n98PzYQasK9ufeY6+0/Zs3s52c/5iQACCCCAAAIIIIAAAggg8IIKbKhknvxmN+V+/XWdedNszB2+ATX3hgv6swmiesIYf8naAAGSAdhbONXWw7mP/ZDJ2wj8zJt/1lf/iuUIVvankr7yQyZvk/GzeveTWT0Mz5CyZc1PUz6yKfkZ/fuFTP/y4WN5nShw+IGTbcZ2290fyOwR1PzFTtWxX8Z+mr2EdisTPsTde2gj8qS48NcH8trf76jZiv0ihk/W/tnvs/8kvvB3O77e1lartfN+SjseH/5yW1u//Br+IPR6wPMM0tdQrbxEAAEEEEAAAQQQQAABBBB4iQQ6bW1sbGhjY4f7205bO3x7oJ1t79a28Nnbph8bapsNxgf535ZXfqeuD1INZaSjC5zQRwABBBBAAAEEEEAAAQQQQAABBBA4lgIETsfystIpBBBAAAEEEEAAAQQQQAABBBBA4OgECJyOzp4zI4AAAggggAACCCCAAAIIIIAAAsdSgMDpWF5WOoUAAggggAACCCCAAAIIIIAAAggcnQCB09HZc2YEEEAAAQQQQAABBBBAAAEEEEDgWAoQOB3Ly0qnEEAAAQQQQAABBBBAAAEEEEAAgaMTIHA6OnvOjAACCCCAAAIIIIAAAggggAACCBxLAQKnY3lZ6RQCCCCAAAIIIIAAAggggAACCCBwdAIETkdnz5kRQAABBBBAAAEEEEAAAQQQQACBYylA4HQsLyudQgABBBBAAAEEEEAAAQQQQAABBI5OgMDp6Ow5MwIIIIAAAggggAACCCCAAAIIIHAsBQicjuVlpVMIIIAAAggggAACCCCAAAIIIIDA0QkQOB2dPWdGAAEEEEAAAQQQQAABBBBAAAEEjqXA4QdOrYpyX4/KcRw5zqimvimr+ezFte202+psh9u3qfI1R/nH4c9e5tcH1J/Ckk69P613ltp9cbaWbun0+9M6V+hbJPbFj7rk7KW8tD59Xac+X4vVs8Nbv92m7Un/Bm7relFvvL+kmzuciq8QQAABBBBAAAEEEEAAAQQQOK4Chxs4Paspl0opW2po81lHnc2GygsTSt2oqn8scZT0deWdeLh0QAHNkXXzgPpjg5uL99RM7FtL4xe9UGfgEEeHEDi1f1bzaavnX35yVqfOLyn/S2Jnej8kcOo14RMEEEAAAQQQQAABBBBAAIETI3CogVP7u3k5/yyrFeZtlZVx5lXtlzhtd9Rud9wjzGyjtplxFBxvvjOfdT8JvvKO8L8PH+OXSKg3Wo2pu6pFx9Hiw/A5wgHNLud3zxFvc7SF0Xe2vvisqlCpjldf258V1jsDy5QN1RM6NPnlAP151pY9X6SOfp+bQiZwGpnW6fdndbEaOcp7U72j370/rdMjCTOWftnwA5+fYwf2CZy22375DW1FZqP1meG0YQKleN2xU4Xf1or6/ciMRlZjletXbdlw6pfYd+HAyfZn49dwraHX29pq+SFXvB4TgLXML8cOZUI18RIBBBBAAAEEEEAAAQQQQACBF0HgUAMnuWFJLBzaLXB6nJdzrajySlpjV9IaSzlKpfOq/1DV/JVRTUxOaNRxNDpb0WZItPOkqMxlR6NX0kp/kZJzOaPik9C5Q/WOfuGXSaWVf+yX2awqZ+s2dUwW1XDr9wOasj1/qE2hpYGt73JKp1IaS6eVvjKqVHpRta1QA2MvI+1NjymVSiv3MNIjNe5mNOp4dU5cHtXcg3rP8r5IPUn9jp1X8vvzsK78FVu3Me62t/MoJ+fLgt9/W0FDhS8dza31SQpN4OTc0cXRaf32yiN7kP9zW/krMzo9ekcXI0vkflY+fV2vvD+tVy/M6rW/TOv0hZwm1+3hvYHT1r0VvTEyrVc+8MqfGlnQxW+7YVLPkrqqFx6dK3TL2NoTf24/0aW/TevV/4r1obaqty5M6/RfZvTahRm3zW9MPlJwif3AabKwpFdHumVe+/t9NcPZ1MYj/dWZ1ilT5vyMu8Tw7NVatx7XcUWXxmf1ijnXX0zZWQ3c/sRO8SECCCCAAAIIIIAAAggggAACBytwuIFTQl8ad3ZZUmeCIWdcizU/2Nhuqvi1I+fLRdmP5IZW4yo88U+wUVE2NaH8ejcMaT/MaTw1r6pNBNx6U8re7863aq1mYsFK/yV1zpW86rb6ZyascTS16tfVqWkxNa7FdRtwdVRfmVL6Tj1BwExIqqtwZULza922mJAnlcrLHtGpLSqVyqocFGmrvpxWKhVa8jdIv3ta4AVOqctzsbon5FwreyGe35/A19TxpKBxJ6ea7WK8XjcoKapyb1m/HbmlbHgp2i/f6h0zY+jek8ieTFt3lvXq+QWN12wi87Oyn03rdLAHUyxw+mFVb47M6NzKhn/2X1XJXNfpD5Z00z9fJHDyZyoNHtZsqzJ9XafPLytvm+Se6Ym7HPB3V0IB05qZsXVdl2w45gZO03rlYlEVO06erunc+Wm9Mf2j396WJj+Z1qufr3VDqCAQ8w8yju9P6/cZu2nYr6pcva5THywrHzfnPQIIIIAAAggggAACCCCAAAIviMCRBk7t9bwmIiFKgooJhmKza+rLjpxlG8WYY/xZOv49eauUljNbie0L1VZl1lGm7M8aMvWm8tFZOxtmeV9WlWBiUf/AKfsgKOQ22j2nbVO7qnknreIPCf0Z9CM3RMuo7GYpHdW+cZQuBWmTV8tWRXOhPaYG6nfP+T278Tve/K3ga78PpZ+8T+rLKY3f7pZp3B5X6lYttLwxONJ74QdO63qsix9O6+z1btub1xd06sM7qgywJ5MJkE45RXk5TjRwqkzN6vTot93ZQO6Z13XxwrTOFb1mBIGTDZuCcCrW3qS3fZfSJRTeXtM74Q3Q3cDJLMOLlm3eWNCpC6bvktbu6LV4GCfJ7de4vw7ROI4sRcMlt+7rGu9ejuhJeIcAAggggAACCCCAAAIIIIDAEQscWeDUeZzXhDPRXcLWD8IEQ3amjV9mt8DJfJ8JzVyyVTdWUt2gKqFeuYGTDXnMUf0Dp/hT6jbLmW7dkloP5vzlb3PK3S2rvtFvKpDfus6m6uWiFm9klJ70luk5jm2LFwot2tkztkOx9g3U7+BY+8KrO/co3r6WSpOh2VNmRlMw48osp0vt/KS+IHCSugGTOWc4gIoGSO4+RbWqLqVv6c2PZoMlZv0Cp5uf2yVts3rNLMFz/83oNyPdWURu4PThdXfZ3W8++7bPBubWIvSz31I6W6Td0r3cHY18tuCe99WR2AbobiiUi87sMseakMk+vc4Nk8xyO9t2/6dZNmdDtpCjPbX8wCmYTRV8wQsEEEAAAQQQQAABBBBAAAEEXgyBowmcWmVvyZvdL2kni4RgaJDAqWc2kKTDDJzcLj1rqfGwrOI3WY2Zp/N118NFe7xV1fzllNJzRVVqdTU32+pEZjj1C4WigZhx2bXf0TMHs8Pmv7PrvmwBb4+mbrAWCplM+BSbdWaPCn6Gg5JgCd22FFliFw2cmrmcXhmZ1dn0qrJ31rX+9Gd3SVsQvsRmRJnA6dW/31N2+duef3l/vaUbOI1c18U79/TWyLR+P23XXQYtTXjRbymdX3T7kf56YVqvOEu6lPtW+UctNX9Z07meGU4Lmnwaq351Wb8NB07nb+lSQvuzxSfezK2wo62KwMlK8BMBBBBAAAEEEEAAAQQQQOAFFTj8wMkNm8yG190lVjva7CNwcmcb9Sypa6n0taMgWEmod5gznDrPojOGOg/ne5YGBv02bZksJTy9z85wksySttQ3sSVsP5U0FVpSN1C/g5PaF/6SutByOfebntleklmyZ5bR1czyuvgSPFud/RkJSuwm4auajGwiHg2cTID02lR0GteOS+quzurUp/djS+p+1VboaXDBkjpJW2YD7/dndt9we7eldEmzl/otqbsX2fxJbnvs7CX3SX05TdotqKzdRmhD84ijX4DAyUrxEwEEEEAAAQQQQAABBBBA4AUVONzA6Zm/ufbdhtrtduRfJ3pf3uVKCIZ2m+GkZzXlzIyi+y1/j6G2mqWsUlfyatgcKKHe3sDJW1aWWW2q3bYHegFNd+aP19TIkrofippwMir+4M8a2m6rtjSu1EI1tq+U3013uVpoQ/BOS5Ub4+ouqZPkbgie0tRK1Z0B1Xpc0vy1CU2EAqeB+t2V9V95/Rm9PNXdZL3TUnkmpdSNWHtNwJUa1WhqSnZvp57q7AfxoMQNV6Z1emRWF/3tiRSbsZT/rxmd/pvdZHtbW2v39OYHoeVlsfLyNw1/8/q6ttzx86vWc7f0amjz7nDgZJbsuZuAj1zXeDTXsq2W/KV0v/n8WzWftnr+bZlL+nRVb5rgyu4H1W7p5pVZd3PvcwW/KjcUmtYrHy7p5lPTONMf84S8ab15w4at/qbhn95T5Rf/F+Dxfb0T3lg87miqJ3DqXi9eIYAAAggggAACCCCAAAIIvJAChxo4uaGM48hJ+BcPcAKthGBo18DJHNyqKJdOBeca/Tqnqr3PN98n1NsbOEmdxwVNXTZtnlfVzY8GCJzM6b/LKZ3q9nX0WlGN+Kq1oJMdNe5mNGpdUmnly0Vlgj2c/IKbNRX9PZ7SswXVt6JL6txSu/U7OKd94ffnUUPFa6Ndr9mSms9sGfvTKxvfU8t+G/nZE5S03Ce7nbp4L7SPUnSGkzYe6a+OtxeSeTLb6QtLupTuv2m4Od/Wt0W9daF7zKmR6xpZ6a5jiwZO5oifdfPzcLAVabUf5oTqez/62guUtlW5kdNr/r5Npq1nZ4sJm4YvKbu64u4fZcq45a7WojOyNmq69OmsTofO88Z46Kl1PY4ETrErxlsEEEAAAQQQQAABBBBAAIEXUOBQA6ej6H/HzKTqCU723pKOneC0p0M73iyuQc+/7ZUf/FQJgZPfvv32e+fjvCf9za31Tc72pNO38EZLzdYez7GfY/o2YMAvttvuDCh31tNOhwxSrv2zmk83/JlaO1XGdwgggAACCCCAAAIIIIAAAgi8+ALHPnB68S/BYC3srOeVTudVD+Uwm9/lNJ6yM68Gq2e/pUwQtVnLayK1qNrgidh+T8dxCCCAAAIIIIAAAggggAACCCDwEgsQOL00F6+l6jdT7rK70StpjZnlepczKj45jPSnrrx7vikVBnmy4EtjSkMRQAABBBBAAAEEEEAAAQQQQOAgBAicDkL1IOvs2M3WDyNoOsiOUDcCCCCAAAIIIIAAAggggAACCBxXAQKn43pl6RcCCCCAAAIIIIAAAggggAACCCBwRAIETkcEz2kRQAABBBBAAAEEEEAAAQQQQACB4ypA4HRcryz9QgABBBBAAAEEEEAAAQQQQAABBI5IgMDpiOA5LQIIIIAAAggggAACCCCAAAIIIHBcBQicjuuVpV8IIIAAAggggAACCCCAAAIIIIDAEQkQOB0RPKdFAAEEEEAAAQQQQAABBBBAAAEEjqsAgdNxvbL0CwEEEEAAAQQQQAABBBBAAAEEEDgiAQKnI4LntAgggAACCCCAAAIIIIAAAggggMBxFSBwOq5Xln4hgAACCCCAAAIIIIAAAggggAACRyRA4HRE8JwWAQQQQAABBBBAAAEEEEAAAQQQOK4CBE7H9crSLwQQQAABBBBAAAEEEEAAAQQQQOCIBAicjgie0yKAAAIIIIAAAggggAACCCCAAALHVYDA6bheWfqFAAIIIIAAAggggAACCCCAAAIIHJEAgdMRwXNaBBBAAAEEEEAAAQQQQAABBBBA4LgKEDgd1ytLvxBAAAEEEEAAAQQQQAABBBBAAIEjEiBwOiJ4TosAAggggAACCCCAAAIIIIAAAggcVwECp+N6ZekXAggggAACCCCAAAIIIIAAAgggcEQCBE5HBP9cp33WUu1hTa1nz1VLwsFtNR5W1dxK+OoEftT+vqrqD+0T2HO6jAACCCCAAAIIIIAAAggggMDzCbxkgVNdeceRs1wfoNd7KTtAdQMU2Sxn5DgZlTcGKPwcRVqrU3IcR5ny5nPU0ntop5Zz6x3Mt/f4g/ikvuzIcfIa5Ir3nL/TVrvd6fl4oA86NeXMWAvOvanytUHH3kBnoBACCCCAAAIIIIAAAggggAACx1aAwGmIl/awAic9a6qyWlHzAGY41VdLqr9AM5yeJ3Dyrsc+wypJ7fWSSut2hhOB0xB/VagKAQQQQAABBBBAAAEEEEDgmAsQOA3xAh9a4DTENr/oVR1l4BS1IXCKevAOAQQQQAABBBBAAAEEEEAAgf4Chx84bW+qdndemSujcpyUxtJzyq81ZeeRBE01s3iW5zRx2ZGTGtPUN2U1n/VZJreXssEJui82a0XNX5vQqOMo9UVac7frkfY07qaVvllVfAHb5nc5pSeLavhVBYFTq6367VDbbxR7Zg0FdW7VVZg1505p7GpO5aZZAtZRs5zzjFJjSs8W1QgDfV9UejKnarhBbc8r/UVKjjOqiWu2rm4/lWBfCGbwSNqsKjeZVvH70DHmZVLd8b2NbJs22mrcnZPbDrfthZ6+x2r333bUXMtrzo4L36Jf4BS+ZqNXMpq/W9Pmtq25oeJk2muDsTCvY17tHyrKz6Y1lnLkXJ5Q5kZRtbCnNlW9mVb6bnB1E5fU9dTjjlPbDn4igAACCCCAAAIIIIAAAgggcDIFDjdw6jSUv2ICpCnlViuq1Wqq3J3ThONo4o69sZdkgiVT7nJG+XJVtVpFxbm0RmeyysT3cNpL2YRrvPkgq5Qzqsxtrz21tYIylx2lvqnJ7v7jhh7Xyr2Bk7tnU3fJlhc4pZWdmdDotbzKD2uqrRU1l07JSWVVbnUb4Nb5z3nNp6e0aPr4sKScW25ehdsZTcwWVanVVF3NKW1Cka9LCg5/nI/uFeW7ptI5lcw5a1WVbqaVcqZU+smec1OVmZRrWlgzZWqq3M64QVfukd/TjbLrm39sj+lei1R6TkX3OO9apJyUsuEO+W2av5FWes5ve3lRU6btVwpBKBeqOfSyo/ryhBuUZZbLqvrjIn05q6zZNynYR8k7pFX2r5lftlrOe9dspuwbtdU0dSyl5ThzKtZMfxva9LvpXXNHE7MF7xo9LGvxqrlG86oGywnjM5ri76XO93lNOCmlb5bcNgfXMHytQr3kJQIIIIAAAggggAACCCCAAAInReBwA6eNmoo3cqoEyYnH3PxXWk4qH4QS7qbYsYDGlGyVvM2yw5ta76Vs70VtqfxPR85SbEvqJ2UtrnZnzOwtcIqGVe45/VAstVANZk55M3cmVHgSatWzquZNoBYLLDoP56MBUzxwWl/0vo+4tlW7W1DFzkRqeWHS4nrofJIa5UWV7NSensCpo9qtlJwvF1WP7RfVuD0RDWjcNjkaX6oHQZ05U2d9UeNOSpEQK9oE6aeSpuIBlinjfh4LnPqV9fs3t9adCpa8h1NbzQd5zd+OtlO+ffaBneYUD5ji76X6kiPnnzbk8ju1VVPxdkXNbjPiveU9AggggAACCCCAAAIIIIAAAsde4HADpz6c0UClpdKko1TSk+jafiATfLeXskknN7N+HDnXSmoFy7F6y+0tcBqPhkh+dV74kVPNn2Xj1jkZmrXkluuzZDAeBMUDp+/zSjnjWqztkHJsVpQ1T7ZbjaRS0c7Gz+M/qS3xaXj+tZj/zj+n26akvte1uMsT9VolL3CMxX5mLZ+qN6KBk1u2x810o6PaN46cG91QLzlwina5+66p4mT4KXTxgCn+XmqseGHcTuzd+nmFAAIIIIAAAggggAACCCCAwMkROPzAabut5uOKSrcLys2mlU6PKeU+fj6j8oaB90KXxJBDXsDUneG0l7LJF7XzOO8tWTP7RN1YVGmtoVZsNs/eAqd5VZNyn1hIlFznPgMntVSZNXtiORq9Mqfc3bJqzXZkppEJZOorZpmd2adqSvNLJVWetNQJB23xwCn+PkLozQ5LrfhLIWP96xbd6Rp5pZItvO/cgCm0pM4ta/aGcvdlMnszdf+5+32Flj7uFDh1NhqqlosqLM0rM5n29gqLLNeMB0zx92bKXUVzZo8xs0/UbE7Fck3NLbsQsyvAKwQQQAABBBBAAAEEEEAAAQROmsDhBk72Bt0Pdwq3S6qYvXUe+UvCjiBwci/4VlPV1UXNX/M3kTZ7Ot1tBIFNv0AkHmjEZzFFBpMNZPwJRsl17jdwMmfqaPNxWcVv5pR2N952ZPZ0qsYmNLWbVZVMzjV6XQAAB2NJREFUyGKDvssZFZ/02cNpx8ApFsDY/rnXMNzzAwicvsxq8XZBhaR/q90N3+PXx2tVN3hzw7nbBRXLVdWbDZXMflHB7LlY/xR/7/exs6l6ueiGp27g5e7pVO3utxWm4DUCCCCAAAIIIIAAAggggAACJ0TgUAMnuwQpvh+Q7B5EbljRUD7laDy8ibi9GP4Sr24osJeytpLdfrbV/FdGjpMONtx2w6H4Xj3moW59Ng3vbtTdPVf7O7MPU1YVf4ug4QdO3XO5r8wT57505IQ2P4+VcJ8+VzQhi12iFg+Y4svmIhX4S+Xu+4nWcwRO3rhI2ljcXyYXmuHUuDPebW+kPb1v4tfHLWGXFtp2B4f5+3ntNXAKjvdemCcXjjuOgo3YY9/zFgEEEEAAAQQQQAABBBBAAIGTIHCogVNyyGKeUDYe2hS7/0bVJrRxl98FocBeyiZczs6maquLKoc37jbFfiop7TjBRtet+yaAmlMleIKZKdRSOfYENS/giD1xzz2tXza0GXiyxf5mOLWflFW8W4s9Rc8Pa/wlZp2NmkpL5WBjdqsRWbIWD5zUVmXW7HEV2xjbzKd6lIs+Be85AqdObdHbg2o9thxtq6p585S7UOCkJwWNO7HN1t3OtFUvlVQJ7dbtXY/uvllusZ4++hL+590wMz6jKf6+rUa5qKLdcN2C7rTvlS3DTwQQQAABBBBAAAEEEEAAAQSOucChBk7ttTk5zoQW15rabLfVbrdUW5lS+spEKHCStFFRNuUodTWvWsuU21RzbVHpdFbZyMbOeyzbczEbKlxx5FxZVKW5qbZpU6um/FWzGXRedZt/+E9LM0vUSg9rqj0sK39tTFNfpyNhiBdwZJSdGdPc3bpapr7NhsoLpn8Tyn9vK5SGGji5QVxKWXvO9qYa5XlNhDfrflJw30/cqqi5aUzbatXymjKzyZb9J7YlhTH2uIWyGu5x/rVIOZqwxxnX5wicJLN5e0pOakr5Wstt22azosV0WtmZqLG3kbhf9qE/jjabqq5MKWWMH3eNvXAqpamVimq1pv+EwIYKXzpKzRRVd8dWW5tPyppPT2jCzAgLwsx4wBR/bzY0N+3IqvjYa3P3Wtv9yHoGHB8ggAACCCCAAAIIIIAAAgggcCIEDjVwMmFB/XZGo+4m4WbmSkrpm1W11vPRwMnMoGmWlUun3I2wzWbYzpV5VVv+TKEgFPCu0V7K9lzVrboK17wNt93zmI23v86pEt/76FFeU+4G0Y6cVFq5clPNxCV1edWfNVQM13k5o8J6dCfxYQZOZv+mZjnnbX5ubVNjyt5t+CGL1+v2ekEZ2we33Kimvql0n9CXFDglXYuEup8vcJL0rKnyTW9Tc+86TGj+u5ZaMWO/J7Fx5MhJMDYujbt2vHWXSPaMF3cfq6Y3Yy0YW/GAKf4+qc1mQ/asit9Hr3XPmOMDBBBAAAEEEEAAAQQQQAABBI65wCEHTr5mx5th0449DS7JuuPOhArNWkkqFFRr6h2sbE81zwZrU2cP9e+l7T3t2dcHHW+WVjv+hLpoZV672tEn1EWLJL4Ljkv8dkgf+mMj8vS8vlXb/u52zTtKGmtD648dz3sYG327xBcIIIAAAggggAACCCCAAAIIHAOBowmcjgEcXUAAAQQQQAABBBBAAAEEEEAAAQQQSBYgcEp24VMEEEAAAQQQQAABBBBAAAEEEEAAgX0KEDjtE47DEEAAAQQQQAABBBBAAAEEEEAAAQSSBQickl34FAEEEEAAAQQQQAABBBBAAAEEEEBgnwIETvuE4zAEEEAAAQQQQAABBBBAAAEEEEAAgWQBAqdkFz5FAAEEEEAAAQQQQAABBBBAAAEEENinAIHTPuE4DAEEEEAAAQQQQAABBBBAAAEEEEAgWYDAKdmFTxFAAAEEEEAAAQQQQAABBBBAAAEE9ilA4LRPOA5DAAEEEEAAAQQQQAABBBBAAAEEEEgWIHBKduFTBBBAAAEEEEAAAQQQQAABBBBAAIF9ChA47ROOwxBAAAEEEEAAAQQQQAABBBBAAAEEkgUInJJd+BQBBBBAAAEEEEAAAQQQQAABBBBAYJ8CBE77hOMwBBBAAAEEEEAAAQQQQAABBBBAAIFkAQKnZBc+RQABBBBAAAEEEEAAAQQQQAABBBDYpwCB0z7hOAwBBBBAAAEEEEAAAQQQQAABBBBAIFmAwCnZhU8RQAABBBBAAAEEEEAAAQQQQAABBPYpQOC0TzgOQwABBBBAAAEEEEAAAQQQQAABBBBIFiBwSnbhUwQQQAABBBBAAAEEEEAAAQQQQACBfQoQOO0TjsMQQAABBBBAAAEEEEAAAQQQQAABBJIFCJySXfgUAQQQQAABBBBAAAEEEEAAAQQQQGCfAqd+/fVX8Q8DxgBjgDHAGGAMMAYYA4wBxgBjgDHAGGAMMAYYA4yBYY2BUz/+2BT/MGAMMAYYA4wBxgBjgDHAGGAMMAYYA4wBxgBjgDHAGBjWGGBJ3T6nhnEYAggggAACCCCAAAIIIIAAAggggECywP8H6GBG5u3Td/4AAAAASUVORK5CYII=)"
      ]
    }
  ]
}